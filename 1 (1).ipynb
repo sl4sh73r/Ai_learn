{
 "cells": [
  {
   "cell_type": "markdown",
   "id": "54207b6b",
   "metadata": {},
   "source": [
    "<h1>Рабочая тетрадь 1. Основы Python</h1>\n",
    "\n",
    "---\n",
    "## Мысливец Леонид Владимирович\n",
    "\n"
   ]
  },
  {
   "cell_type": "markdown",
   "id": "231ff449",
   "metadata": {},
   "source": [
    "### Типы данных\n",
    "```\n",
    "Все типы данных в Python относятся к одной из 2-х категорий: \n",
    "изменяемые (mutable) и неизменяемые (immutable).\n",
    "Неизменяемые объекты:\n",
    "\tчисловые данные (int, float),\n",
    "\tbool,\n",
    "\tNone,\n",
    "\tсимвольные строки (class 'str'),\n",
    "\tкортежи (tuple).\n",
    "Изменяемые объекты:\n",
    "\tсписки (list),\n",
    "\tмножества (set),\n",
    "\tсловари (dict).\n",
    "```"
   ]
  },
  {
   "cell_type": "markdown",
   "id": "f11fcb56",
   "metadata": {},
   "source": [
    "***Пример:*** Выведите на печать и определите тип переменной."
   ]
  },
  {
   "cell_type": "code",
   "execution_count": 1,
   "id": "09685ed9",
   "metadata": {},
   "outputs": [
    {
     "name": "stdout",
     "output_type": "stream",
     "text": [
      "39.4 | <class 'float'> \n",
      " None | <class 'NoneType'> \n",
      " ('a', 5, 12.345, (2, 'b')) | <class 'tuple'> \n",
      " [['Антонова Антонина', 34, 'ж'], ['Борисов Борис', 26, 'м']] | <class 'list'> \n",
      " {1, 'title', 2, 'content'} | <class 'set'>\n"
     ]
    }
   ],
   "source": [
    "x = 3+5.2*7\n",
    "y = None\n",
    "z = 'a', 5, 12.345, (2, 'b')\n",
    "df = [['Антонова Антонина', 34, 'ж'],['Борисов Борис', 26, 'м']]\n",
    "A = {1, 'title', 2, 'content'}\n",
    "print(x, '|', type(x), '\\n', y, '|', type(y), '\\n', z, '|', type(z), '\\n', df, '|', type(df), '\\n', A, '|', type(A))"
   ]
  },
  {
   "cell_type": "markdown",
   "id": "f7bceded",
   "metadata": {},
   "source": [
    "***Задане:*** Выведите на печать и определите тип переменной."
   ]
  },
  {
   "cell_type": "code",
   "execution_count": 2,
   "id": "4d1e9068",
   "metadata": {},
   "outputs": [
    {
     "name": "stdout",
     "output_type": "stream",
     "text": [
      "True | <class 'bool'> \n",
      " {8, 1, 3, 7} | <class 'set'> \n",
      " {'apple', 2, 4, 5, 10} | <class 'set'> \n",
      " set() | <class 'set'> \n",
      " ('Антонова Антонина', 34, 'ж') | <class 'tuple'> \n",
      " type | <class 'str'> \n",
      " [1, 'title', 2, 'content'] | <class 'list'> \n",
      "\n"
     ]
    }
   ],
   "source": [
    "x = 5 >= 2\n",
    "A = {1, 3, 7, 8}\n",
    "B = {2, 4, 5, 10, 'apple'}\n",
    "C = A & B\n",
    "df = 'Антонова Антонина', 34, 'ж'\n",
    "z = 'type'\n",
    "D = [1, 'title', 2, 'content']\n",
    "print(x, '|', type(x), '\\n', A, '|', type(A), '\\n', B, '|', type(B), '\\n', C, '|', type(C), '\\n', df, '|', type(df), '\\n', z, '|', type(z), '\\n', D, '|', type(D), '\\n', )"
   ]
  },
  {
   "cell_type": "markdown",
   "id": "1c4262d4",
   "metadata": {},
   "source": [
    "### If - Условный оператор\n",
    "```\n",
    "В коде часто приходится проверять выполнимость или невыполнимость каких-то условий. Синтаксис:\n",
    "if<условие1 (булевское выражение)> :\n",
    "    <код, который выполнится, если условие верно>\n",
    "elif<условие2 (булевское выражение)>:\n",
    "    <код, который выполнится, если условие1 было неверно, а условие2верно>\n",
    "else:\n",
    "    <код, который выполнится, если условие1 и условие2 были неверны>\n",
    "Обратите внимание, что код, который должен выполняться внутри каждого условия, записывается с отступом в 4 пробела от уровня if, elif и else: в питоне области видимости переменных обозначаются отступами.\n",
    "```\n",
    "***То есть, отступы позволяют понять, где начинается код, который должен выполняться при выполнении условия в if, и где заканчивается.***\n"
   ]
  },
  {
   "cell_type": "markdown",
   "id": "ef3b7eaa",
   "metadata": {},
   "source": [
    "***Пример:*** Вывести на экран является ли переменная х положительной, отрицательной или равна нулю."
   ]
  },
  {
   "cell_type": "code",
   "execution_count": 3,
   "id": "46288ed3",
   "metadata": {},
   "outputs": [
    {
     "name": "stdout",
     "output_type": "stream",
     "text": [
      "x положительный\n"
     ]
    }
   ],
   "source": [
    "x = 125\n",
    "if x<0:\n",
    "    print(\"x отрицательный\")\n",
    "elif x==0:\n",
    "    print(\"x равен нулю\")\n",
    "else:\n",
    "    print(\"x положительный\")"
   ]
  },
  {
   "cell_type": "markdown",
   "id": "140b1907",
   "metadata": {},
   "source": [
    "***Задание:*** Напишите код. Задается х, напечатать какому из интервалов принадлежит: (-infinity, -5), [-5, 5] или от (5, +infinity)"
   ]
  },
  {
   "cell_type": "code",
   "execution_count": 4,
   "id": "926516f5",
   "metadata": {},
   "outputs": [
    {
     "name": "stdout",
     "output_type": "stream",
     "text": [
      "x принадлежит промежутку (5; ∞)\n"
     ]
    }
   ],
   "source": [
    "x = 100\n",
    "if x<-5:\n",
    "    print(\"x принадлежит промежутку (-∞;-5)\")\n",
    "elif x<=5:\n",
    "    print(\"x принадлежит промежутку [-5; 5]\")\n",
    "else:\n",
    "    print(\"x принадлежит промежутку (5; ∞)\")"
   ]
  },
  {
   "cell_type": "markdown",
   "id": "448c88a2",
   "metadata": {},
   "source": [
    "### Циклы - for и while\n",
    "```\n",
    "Цикл while проверяет истинность условия, и если условие истинно, то выполняет инструкции цикла.\n",
    "Синтаксис:\n",
    "while условие:\n",
    "    инструкции\n",
    "Инструкции, которые относятся к циклу while, располагаются на последующих строках и должны иметь отступ от начала ключевого слова while.\n",
    "Цикл for проходит по набору значений, помещает каждое значение в переменную с которой в цикле можно производить различные действия.\n",
    "Синтаксис:\n",
    "for переменная in набор_значений:\n",
    "    инструкции\n",
    "После ключевого слова for идет название переменной, в которую будут помещаться значения. После оператора in указывается набор значений и двоеточие. Инструкции, которые относятся к циклу, располагаются на последующих строках и должны иметь отступ.\n",
    "При создании цикла удобно пользоваться функцией range(a, b), которая создает последовательность чисел от a до b-1\n",
    "```"
   ]
  },
  {
   "cell_type": "markdown",
   "id": "4a2b0e30",
   "metadata": {},
   "source": [
    "***Пример:*** Вывести все числа от 1 до 10 с шагом 3."
   ]
  },
  {
   "cell_type": "code",
   "execution_count": 5,
   "id": "47b02102",
   "metadata": {},
   "outputs": [
    {
     "name": "stdout",
     "output_type": "stream",
     "text": [
      "1\n",
      "4\n",
      "7\n",
      "10\n"
     ]
    }
   ],
   "source": [
    "x = 1\n",
    "while x <= 10:\n",
    "    print(x)\n",
    "    x += 3"
   ]
  },
  {
   "cell_type": "markdown",
   "id": "96959235",
   "metadata": {},
   "source": [
    "***Пример:*** Задан список. Напечатать все элементы списка."
   ]
  },
  {
   "cell_type": "code",
   "execution_count": 6,
   "id": "76715ed5",
   "metadata": {},
   "outputs": [
    {
     "name": "stdout",
     "output_type": "stream",
     "text": [
      "KNN\n",
      "decision tree\n",
      "linear model\n"
     ]
    }
   ],
   "source": [
    "models = ['KNN', 'decision tree', 'linear model']\n",
    "for model in models:\n",
    "    print(model)"
   ]
  },
  {
   "cell_type": "markdown",
   "id": "c630e1b2",
   "metadata": {},
   "source": [
    "***Пример:*** Создать список от 1 до 99 с шагом 7."
   ]
  },
  {
   "cell_type": "code",
   "execution_count": 7,
   "id": "6114e0c4",
   "metadata": {},
   "outputs": [
    {
     "name": "stdout",
     "output_type": "stream",
     "text": [
      "[1, 8, 15, 22, 29, 36, 43, 50, 57, 64, 71, 78, 85, 92, 99]\n"
     ]
    }
   ],
   "source": [
    "list_int = range(1, 100, 7)\n",
    "print(list(list_int))"
   ]
  },
  {
   "cell_type": "markdown",
   "id": "d4cdc825",
   "metadata": {},
   "source": [
    "***Пример:*** Вывести на экран числа от 5 до 105 с шагом 25, используя функцию range()"
   ]
  },
  {
   "cell_type": "code",
   "execution_count": 8,
   "id": "3f2e13e0",
   "metadata": {},
   "outputs": [
    {
     "name": "stdout",
     "output_type": "stream",
     "text": [
      "5\n",
      "30\n",
      "55\n",
      "80\n",
      "105\n"
     ]
    }
   ],
   "source": [
    "for i in range (5, 106, 25):\n",
    "    print(i)"
   ]
  },
  {
   "cell_type": "markdown",
   "id": "83178afb",
   "metadata": {},
   "source": [
    "***Пример:*** Срез.Необходимо получить каждый k-й элемент массива a, начиная с элемента с индексом i (включительно) и заканчивая элементом с индексом j (не включительно), c шагом 2. Переставить все элементы в обратном порядке."
   ]
  },
  {
   "cell_type": "code",
   "execution_count": 9,
   "id": "436ecbc1",
   "metadata": {},
   "outputs": [
    {
     "name": "stdout",
     "output_type": "stream",
     "text": [
      "[2, 4, 6]\n",
      "[9, 8, 7, 6, 5, 4, 3, 2, 1]\n"
     ]
    }
   ],
   "source": [
    "a = [1, 2, 3, 4, 5, 6, 7, 8, 9]\n",
    "b = a[1:7:2]\n",
    "c = a[::-1]\n",
    "print(b)\n",
    "print(c)"
   ]
  },
  {
   "cell_type": "markdown",
   "id": "51e04b73",
   "metadata": {},
   "source": [
    "***Задание:*** Выведите числа из примера на while (3.2.1) в обратном порядке."
   ]
  },
  {
   "cell_type": "code",
   "execution_count": 10,
   "id": "65035b72",
   "metadata": {},
   "outputs": [
    {
     "name": "stdout",
     "output_type": "stream",
     "text": [
      "10\n",
      "7\n",
      "4\n",
      "1\n"
     ]
    }
   ],
   "source": [
    "x = 10\n",
    "while x>=1:\n",
    "    print(x)\n",
    "    x -= 3"
   ]
  },
  {
   "cell_type": "markdown",
   "id": "d2d2e4d6",
   "metadata": {},
   "source": [
    "***Задание:*** При решении задач машинного обучения часто в качестве объектов исследования выступает человек. Создайте список значимых характеристик (признаков), идентифицирующих человека. Выведите список на экран."
   ]
  },
  {
   "cell_type": "code",
   "execution_count": 11,
   "id": "b0b68cf2",
   "metadata": {},
   "outputs": [
    {
     "name": "stdout",
     "output_type": "stream",
     "text": [
      "цвет волос\n",
      "цвет глаз\n",
      "цвет кожи\n",
      "рост\n",
      "вес\n",
      "пол\n",
      "возраст\n"
     ]
    }
   ],
   "source": [
    "chr=['цвет волос','цвет глаз','цвет кожи','рост','вес','пол','возраст']\n",
    "for i in chr:\n",
    "    print(i)"
   ]
  },
  {
   "cell_type": "markdown",
   "id": "527a5e89",
   "metadata": {},
   "source": [
    "***Задание:*** Создать список чисел от 2 до 15 с шагом 1.\n"
   ]
  },
  {
   "cell_type": "code",
   "execution_count": 12,
   "id": "82f46059",
   "metadata": {},
   "outputs": [
    {
     "name": "stdout",
     "output_type": "stream",
     "text": [
      "[2, 3, 4, 5, 6, 7, 8, 9, 10, 11, 12, 13, 14, 15]\n"
     ]
    }
   ],
   "source": [
    "list_int =  range (2,16,1)\n",
    "print (list(list_int))"
   ]
  },
  {
   "cell_type": "markdown",
   "id": "7cc2ffa6",
   "metadata": {},
   "source": [
    "***Задание:*** Выведите числа из примера на forcфункцией range() (3.2.4) в обратном порядке."
   ]
  },
  {
   "cell_type": "code",
   "execution_count": 13,
   "id": "a3dc7300",
   "metadata": {},
   "outputs": [
    {
     "name": "stdout",
     "output_type": "stream",
     "text": [
      "105\n",
      "80\n",
      "55\n",
      "30\n",
      "5\n"
     ]
    }
   ],
   "source": [
    "for i in range (105, 4, -25):\n",
    "    print(i)"
   ]
  },
  {
   "cell_type": "markdown",
   "id": "3c44387a",
   "metadata": {},
   "source": [
    "<b><i>Задание:</i></b> Срез. Напишите код, который все элементы массива x с четными индексами переставит в обратном порядке.</br>\n",
    " Т.е. если x = [0, 1, 2, 3, 4, 5, 6, 7, 8, 9], то код должен сформировать [8, 1, 6, 3, 4, 5, 2, 7, 0, 9]."
   ]
  },
  {
   "cell_type": "code",
   "execution_count": 14,
   "id": "912718cd",
   "metadata": {},
   "outputs": [
    {
     "name": "stdout",
     "output_type": "stream",
     "text": [
      "[8, 1, 6, 3, 4, 5, 2, 7, 0, 9]\n"
     ]
    }
   ],
   "source": [
    "x = [0,1,2,3,4,5,6,7,8,9]\n",
    "x[0::2]=reversed (x[0::2])\n",
    "print(x)\n"
   ]
  },
  {
   "cell_type": "markdown",
   "id": "4876a923",
   "metadata": {},
   "source": [
    "```\n",
    "Машинное обучение опирается на фундаментальные понятия и законы\n",
    "математики и информатики. Библиотека математических функций (math)\n",
    "применяется при решении большинства прикладных задач анализа данных.\n",
    "Также, и некоторые другие библиотеки Python содержат математические\n",
    "функции (например, NumPy). Важную роль играет библиотека matplotlib,\n",
    "которая позволяет производить визуализацию расчетов в удобной для\n",
    "восприятия человеком форме: графики, диаграммы, гистограммы.\n",
    "    Подключение библиотек – синтаксис:\n",
    "import math as m\n",
    "import numpy as np\n",
    "import matplotlib.pyplot as plt\n",
    "etc…\n",
    "Библиотеки в python содержат не только функции, позволяющие решать\n",
    "различные задачи, но и некоторые популярные константы, например число\n",
    "Эйлера.\n",
    "```"
   ]
  },
  {
   "cell_type": "markdown",
   "id": "822a8069",
   "metadata": {},
   "source": [
    "***Пример:*** Рассчитать синус от е радиан и вывести результат на экран"
   ]
  },
  {
   "cell_type": "code",
   "execution_count": 15,
   "id": "ef190f52",
   "metadata": {},
   "outputs": [
    {
     "name": "stdout",
     "output_type": "stream",
     "text": [
      "0.41078129050290885\n"
     ]
    }
   ],
   "source": [
    "import math as m\n",
    "print(m.sin(m.e))"
   ]
  },
  {
   "cell_type": "markdown",
   "id": "a8a3198b",
   "metadata": {},
   "source": [
    "***Пример:*** Для функции \\\\(sin(𝑥𝑒^{cos(𝑥)})\\\\) на интервале [0;10] с шагом 0,05 построить\n",
    "график функции, закрасить площадь под ним и вычислить значение этой площади. Для вычисления площади воспользуйте функции trapz(), вычисляющей интеграл по правилу трапеции. Для ее корректной работы необходимо\n",
    "подключить следующие библиотеки:<br>\n",
    "from scipy.integrate import simps<br>\n",
    "from numpy import trapz"
   ]
  },
  {
   "cell_type": "code",
   "execution_count": 16,
   "id": "115251c9",
   "metadata": {},
   "outputs": [
    {
     "name": "stdout",
     "output_type": "stream",
     "text": [
      "73.50792907748662\n"
     ]
    },
    {
     "data": {
      "image/png": "[encoded data removed]",
      "text/plain": [
       "<Figure size 432x288 with 1 Axes>"
      ]
     },
     "metadata": {
      "needs_background": "light"
     },
     "output_type": "display_data"
    }
   ],
   "source": [
    "import numpy as np\n",
    "import matplotlib.pyplot as plt\n",
    "from scipy.integrate import simps \n",
    "from numpy import trapz\n",
    "x = np.arange(0.0, 10, 0.1)\n",
    "y = np.abs(np.sin(x*np.exp(np.cos(x))))\n",
    "plt.grid()\n",
    "plt.plot(x, y, c = \"r\")\n",
    "plt.fill_between(x, y)\n",
    "\n",
    "area = trapz(y)\n",
    "print (area)"
   ]
  },
  {
   "cell_type": "markdown",
   "id": "fb4a4695",
   "metadata": {},
   "source": [
    "***Пример:*** Дано некоторое распределение оценок в группе за экзамен. Нарисовать круговую и точечную диаграммы распределения."
   ]
  },
  {
   "cell_type": "code",
   "execution_count": 17,
   "id": "0286624d",
   "metadata": {},
   "outputs": [
    {
     "data": {
      "image/png": "[encoded data removed]",
      "text/plain": [
       "<Figure size 720x504 with 1 Axes>"
      ]
     },
     "metadata": {},
     "output_type": "display_data"
    },
    {
     "data": {
      "text/plain": [
       "<matplotlib.collections.PathCollection at 0x28ef2d4ea90>"
      ]
     },
     "execution_count": 17,
     "metadata": {},
     "output_type": "execute_result"
    },
    {
     "data": {
      "image/png": "[encoded data removed]",
      "text/plain": [
       "<Figure size 432x288 with 1 Axes>"
      ]
     },
     "metadata": {
      "needs_background": "light"
     },
     "output_type": "display_data"
    }
   ],
   "source": [
    "from matplotlib import pyplot as plt\n",
    "import numpy as np\n",
    "marks = ['Неуд', 'Удовл', 'Хор', 'Отл']\n",
    "data = [3, 7, 8, 4]\n",
    "fig = plt.figure(figsize =(10, 7))\n",
    "plt. pie(data, labels = marks)\n",
    "plt.show()\n",
    "plt.grid()\n",
    "plt.scatter (marks,data)"
   ]
  },
  {
   "cell_type": "markdown",
   "id": "75353276",
   "metadata": {},
   "source": [
    "***Задание:*** Задайте массив случайных значений из интервала(0; 1). Рассчитайте средние и медианные значения для массива, сравните результаты, какие выводы можно сделать о значениях? Постройте точечную диаграмму рассения полученного ряда."
   ]
  },
  {
   "cell_type": "code",
   "execution_count": 29,
   "id": "53d91b0c",
   "metadata": {},
   "outputs": [
    {
     "data": {
      "text/plain": [
       "<matplotlib.collections.PathCollection at 0x28ef9839fd0>"
      ]
     },
     "execution_count": 29,
     "metadata": {},
     "output_type": "execute_result"
    },
    {
     "data": {
      "image/png": "[encoded data removed]",
      "text/plain": [
       "<Figure size 432x288 with 1 Axes>"
      ]
     },
     "metadata": {
      "needs_background": "light"
     },
     "output_type": "display_data"
    }
   ],
   "source": [
    "import numpy as np\n",
    "import pandas as pd\n",
    "import matplotlib.pyplot as plt\n",
    "mas=np.random.rand(1000)\n",
    "rd = pd.DataFrame(mas)\n",
    "df = pd.DataFrame({'mean': rd.mean(), 'median': rd.median()})\n",
    "x=rd.mean() #0.45\n",
    "y=rd.median() #0.5\n",
    "fig, ax = plt.subplots()\n",
    "plt.grid()\n",
    "ax.scatter(x,y)\n"
   ]
  },
  {
   "cell_type": "markdown",
   "id": "6d748670",
   "metadata": {},
   "source": [
    "***Задание:*** Дана функция \\\\(\\frac{\\sqrt{1+e^{\\sqrt{x}}+\\cos(x^2)}}{|1-\\sin^3(x)|}+ln|2x|\\\\); Создать массив из 10 значений функции (𝑥, например, изменяется от 1 до 10). Выделить срез первой половины массива и построить графики для основного массива – линейный и для среза – точечный\n"
   ]
  },
  {
   "cell_type": "code",
   "execution_count": 34,
   "id": "db89b3a6",
   "metadata": {},
   "outputs": [
    {
     "data": {
      "text/plain": [
       "<matplotlib.collections.PathCollection at 0x28ef9962880>"
      ]
     },
     "execution_count": 34,
     "metadata": {},
     "output_type": "execute_result"
    },
    {
     "data": {
      "image/png": "[encoded data removed]",
      "text/plain": [
       "<Figure size 432x288 with 1 Axes>"
      ]
     },
     "metadata": {
      "needs_background": "light"
     },
     "output_type": "display_data"
    }
   ],
   "source": [
    "import numpy as np\n",
    "import matplotlib.pyplot as plt\n",
    "from numpy import trapz\n",
    "x = np.arange(1, 11,1)\n",
    "func = ((np.sqrt(1+np.e**(np.sqrt(x))+np.cos(x**2)))/(np.abs(1-np.sin(x)**3)))+ np.log(2*x)\n",
    "plt.grid()\n",
    "x1=x[0:5]\n",
    "y1=func[0:5]\n",
    "plt.plot(mas, func,c='b')\n",
    "plt.scatter(x1,y1,c='r')\n"
   ]
  },
  {
   "cell_type": "markdown",
   "id": "1025d255",
   "metadata": {},
   "source": [
    "***Задание:*** Дана функция \\\\(|cos(𝑥𝑒^{(cos(𝑥)+ln(𝑥+1)})|\\\\) Построить график на\n",
    "интервале (0,10) с шагом 1 с заливкой площади и найти эту площадь\n",
    "под ним. Для вычисления площади воспользуйте функции trapz(), вычисляющей интеграл по правилу трапеции.\n",
    "Для ее корректной работы необходимо подключить следующие библиотеки:<br>\n",
    "from scipy.integrate import simps<br>\n",
    "from numpy import trapz"
   ]
  },
  {
   "cell_type": "code",
   "execution_count": 36,
   "id": "75fd2303",
   "metadata": {},
   "outputs": [
    {
     "name": "stdout",
     "output_type": "stream",
     "text": [
      "6.748183214657733\n"
     ]
    },
    {
     "data": {
      "image/png": "[encoded data removed]",
      "text/plain": [
       "<Figure size 432x288 with 1 Axes>"
      ]
     },
     "metadata": {
      "needs_background": "light"
     },
     "output_type": "display_data"
    }
   ],
   "source": [
    "import numpy as np\n",
    "import matplotlib.pyplot as plt\n",
    "from scipy.integrate import simps \n",
    "from numpy import trapz\n",
    "x = np.arange(0, 11, 1)\n",
    "y = np.abs(np.cos(x*np.exp((np.cos(x))+np.log(x+1))))\n",
    "plt.grid()\n",
    "plt.plot(x, y, c = \"r\")\n",
    "plt.fill_between(x, y)\n",
    "area = trapz(y)\n",
    "print (area)"
   ]
  },
  {
   "cell_type": "markdown",
   "id": "04e25811",
   "metadata": {},
   "source": [
    "***Задание:*** Откройте статистические данные по стоимости акций Apple, Microsoft, Google за 12 месяцев 2021 г. Постройте 3 графика на плоскости и оцените их динамику. Подумайте, как можно улучшить читаемость результатов.\n",
    "\n",
    "Для начальных данных допустимо использовать следующий ресурс: https://finance.yahoo.com\n"
   ]
  },
  {
   "cell_type": "code",
   "execution_count": 43,
   "id": "13e07f30",
   "metadata": {},
   "outputs": [
    {
     "ename": "OSError",
     "evalue": "Cannot save file into a non-existent directory: 'data'",
     "output_type": "error",
     "traceback": [
      "\u001b[1;31m---------------------------------------------------------------------------\u001b[0m",
      "\u001b[1;31mOSError\u001b[0m                                   Traceback (most recent call last)",
      "Input \u001b[1;32mIn [43]\u001b[0m, in \u001b[0;36m<cell line: 8>\u001b[1;34m()\u001b[0m\n\u001b[0;32m      3\u001b[0m \u001b[38;5;28;01mimport\u001b[39;00m \u001b[38;5;21;01mpandas\u001b[39;00m \u001b[38;5;28;01mas\u001b[39;00m \u001b[38;5;21;01mpd\u001b[39;00m\n\u001b[0;32m      4\u001b[0m aapl \u001b[38;5;241m=\u001b[39m pdr\u001b[38;5;241m.\u001b[39mget_data_yahoo(\u001b[38;5;124m'\u001b[39m\u001b[38;5;124mAAPL\u001b[39m\u001b[38;5;124m'\u001b[39m, \n\u001b[0;32m      5\u001b[0m                           start\u001b[38;5;241m=\u001b[39mdatetime\u001b[38;5;241m.\u001b[39mdatetime(\u001b[38;5;241m2006\u001b[39m, \u001b[38;5;241m10\u001b[39m, \u001b[38;5;241m1\u001b[39m), \n\u001b[0;32m      6\u001b[0m                           end\u001b[38;5;241m=\u001b[39mdatetime\u001b[38;5;241m.\u001b[39mdatetime(\u001b[38;5;241m2012\u001b[39m, \u001b[38;5;241m1\u001b[39m, \u001b[38;5;241m1\u001b[39m))\n\u001b[1;32m----> 8\u001b[0m \u001b[43maapl\u001b[49m\u001b[38;5;241;43m.\u001b[39;49m\u001b[43mto_csv\u001b[49m\u001b[43m(\u001b[49m\u001b[38;5;124;43m'\u001b[39;49m\u001b[38;5;124;43mdata/aapl_ohlc.csv\u001b[39;49m\u001b[38;5;124;43m'\u001b[39;49m\u001b[43m)\u001b[49m\n\u001b[0;32m      9\u001b[0m df \u001b[38;5;241m=\u001b[39m pd\u001b[38;5;241m.\u001b[39mread_csv(\u001b[38;5;124m'\u001b[39m\u001b[38;5;124mdata/aapl_ohlc.csv\u001b[39m\u001b[38;5;124m'\u001b[39m, header\u001b[38;5;241m=\u001b[39m\u001b[38;5;241m0\u001b[39m, index_col\u001b[38;5;241m=\u001b[39m\u001b[38;5;124m'\u001b[39m\u001b[38;5;124mDate\u001b[39m\u001b[38;5;124m'\u001b[39m, parse_dates\u001b[38;5;241m=\u001b[39m\u001b[38;5;28;01mTrue\u001b[39;00m)\n\u001b[0;32m     10\u001b[0m \u001b[38;5;66;03m# Inspect the index \u001b[39;00m\n",
      "File \u001b[1;32m~\\anaconda3\\lib\\site-packages\\pandas\\core\\generic.py:3551\u001b[0m, in \u001b[0;36mNDFrame.to_csv\u001b[1;34m(self, path_or_buf, sep, na_rep, float_format, columns, header, index, index_label, mode, encoding, compression, quoting, quotechar, line_terminator, chunksize, date_format, doublequote, escapechar, decimal, errors, storage_options)\u001b[0m\n\u001b[0;32m   3540\u001b[0m df \u001b[38;5;241m=\u001b[39m \u001b[38;5;28mself\u001b[39m \u001b[38;5;28;01mif\u001b[39;00m \u001b[38;5;28misinstance\u001b[39m(\u001b[38;5;28mself\u001b[39m, ABCDataFrame) \u001b[38;5;28;01melse\u001b[39;00m \u001b[38;5;28mself\u001b[39m\u001b[38;5;241m.\u001b[39mto_frame()\n\u001b[0;32m   3542\u001b[0m formatter \u001b[38;5;241m=\u001b[39m DataFrameFormatter(\n\u001b[0;32m   3543\u001b[0m     frame\u001b[38;5;241m=\u001b[39mdf,\n\u001b[0;32m   3544\u001b[0m     header\u001b[38;5;241m=\u001b[39mheader,\n\u001b[1;32m   (...)\u001b[0m\n\u001b[0;32m   3548\u001b[0m     decimal\u001b[38;5;241m=\u001b[39mdecimal,\n\u001b[0;32m   3549\u001b[0m )\n\u001b[1;32m-> 3551\u001b[0m \u001b[38;5;28;01mreturn\u001b[39;00m \u001b[43mDataFrameRenderer\u001b[49m\u001b[43m(\u001b[49m\u001b[43mformatter\u001b[49m\u001b[43m)\u001b[49m\u001b[38;5;241;43m.\u001b[39;49m\u001b[43mto_csv\u001b[49m\u001b[43m(\u001b[49m\n\u001b[0;32m   3552\u001b[0m \u001b[43m    \u001b[49m\u001b[43mpath_or_buf\u001b[49m\u001b[43m,\u001b[49m\n\u001b[0;32m   3553\u001b[0m \u001b[43m    \u001b[49m\u001b[43mline_terminator\u001b[49m\u001b[38;5;241;43m=\u001b[39;49m\u001b[43mline_terminator\u001b[49m\u001b[43m,\u001b[49m\n\u001b[0;32m   3554\u001b[0m \u001b[43m    \u001b[49m\u001b[43msep\u001b[49m\u001b[38;5;241;43m=\u001b[39;49m\u001b[43msep\u001b[49m\u001b[43m,\u001b[49m\n\u001b[0;32m   3555\u001b[0m \u001b[43m    \u001b[49m\u001b[43mencoding\u001b[49m\u001b[38;5;241;43m=\u001b[39;49m\u001b[43mencoding\u001b[49m\u001b[43m,\u001b[49m\n\u001b[0;32m   3556\u001b[0m \u001b[43m    \u001b[49m\u001b[43merrors\u001b[49m\u001b[38;5;241;43m=\u001b[39;49m\u001b[43merrors\u001b[49m\u001b[43m,\u001b[49m\n\u001b[0;32m   3557\u001b[0m \u001b[43m    \u001b[49m\u001b[43mcompression\u001b[49m\u001b[38;5;241;43m=\u001b[39;49m\u001b[43mcompression\u001b[49m\u001b[43m,\u001b[49m\n\u001b[0;32m   3558\u001b[0m \u001b[43m    \u001b[49m\u001b[43mquoting\u001b[49m\u001b[38;5;241;43m=\u001b[39;49m\u001b[43mquoting\u001b[49m\u001b[43m,\u001b[49m\n\u001b[0;32m   3559\u001b[0m \u001b[43m    \u001b[49m\u001b[43mcolumns\u001b[49m\u001b[38;5;241;43m=\u001b[39;49m\u001b[43mcolumns\u001b[49m\u001b[43m,\u001b[49m\n\u001b[0;32m   3560\u001b[0m \u001b[43m    \u001b[49m\u001b[43mindex_label\u001b[49m\u001b[38;5;241;43m=\u001b[39;49m\u001b[43mindex_label\u001b[49m\u001b[43m,\u001b[49m\n\u001b[0;32m   3561\u001b[0m \u001b[43m    \u001b[49m\u001b[43mmode\u001b[49m\u001b[38;5;241;43m=\u001b[39;49m\u001b[43mmode\u001b[49m\u001b[43m,\u001b[49m\n\u001b[0;32m   3562\u001b[0m \u001b[43m    \u001b[49m\u001b[43mchunksize\u001b[49m\u001b[38;5;241;43m=\u001b[39;49m\u001b[43mchunksize\u001b[49m\u001b[43m,\u001b[49m\n\u001b[0;32m   3563\u001b[0m \u001b[43m    \u001b[49m\u001b[43mquotechar\u001b[49m\u001b[38;5;241;43m=\u001b[39;49m\u001b[43mquotechar\u001b[49m\u001b[43m,\u001b[49m\n\u001b[0;32m   3564\u001b[0m \u001b[43m    \u001b[49m\u001b[43mdate_format\u001b[49m\u001b[38;5;241;43m=\u001b[39;49m\u001b[43mdate_format\u001b[49m\u001b[43m,\u001b[49m\n\u001b[0;32m   3565\u001b[0m \u001b[43m    \u001b[49m\u001b[43mdoublequote\u001b[49m\u001b[38;5;241;43m=\u001b[39;49m\u001b[43mdoublequote\u001b[49m\u001b[43m,\u001b[49m\n\u001b[0;32m   3566\u001b[0m \u001b[43m    \u001b[49m\u001b[43mescapechar\u001b[49m\u001b[38;5;241;43m=\u001b[39;49m\u001b[43mescapechar\u001b[49m\u001b[43m,\u001b[49m\n\u001b[0;32m   3567\u001b[0m \u001b[43m    \u001b[49m\u001b[43mstorage_options\u001b[49m\u001b[38;5;241;43m=\u001b[39;49m\u001b[43mstorage_options\u001b[49m\u001b[43m,\u001b[49m\n\u001b[0;32m   3568\u001b[0m \u001b[43m\u001b[49m\u001b[43m)\u001b[49m\n",
      "File \u001b[1;32m~\\anaconda3\\lib\\site-packages\\pandas\\io\\formats\\format.py:1180\u001b[0m, in \u001b[0;36mDataFrameRenderer.to_csv\u001b[1;34m(self, path_or_buf, encoding, sep, columns, index_label, mode, compression, quoting, quotechar, line_terminator, chunksize, date_format, doublequote, escapechar, errors, storage_options)\u001b[0m\n\u001b[0;32m   1159\u001b[0m     created_buffer \u001b[38;5;241m=\u001b[39m \u001b[38;5;28;01mFalse\u001b[39;00m\n\u001b[0;32m   1161\u001b[0m csv_formatter \u001b[38;5;241m=\u001b[39m CSVFormatter(\n\u001b[0;32m   1162\u001b[0m     path_or_buf\u001b[38;5;241m=\u001b[39mpath_or_buf,\n\u001b[0;32m   1163\u001b[0m     line_terminator\u001b[38;5;241m=\u001b[39mline_terminator,\n\u001b[1;32m   (...)\u001b[0m\n\u001b[0;32m   1178\u001b[0m     formatter\u001b[38;5;241m=\u001b[39m\u001b[38;5;28mself\u001b[39m\u001b[38;5;241m.\u001b[39mfmt,\n\u001b[0;32m   1179\u001b[0m )\n\u001b[1;32m-> 1180\u001b[0m \u001b[43mcsv_formatter\u001b[49m\u001b[38;5;241;43m.\u001b[39;49m\u001b[43msave\u001b[49m\u001b[43m(\u001b[49m\u001b[43m)\u001b[49m\n\u001b[0;32m   1182\u001b[0m \u001b[38;5;28;01mif\u001b[39;00m created_buffer:\n\u001b[0;32m   1183\u001b[0m     \u001b[38;5;28;01massert\u001b[39;00m \u001b[38;5;28misinstance\u001b[39m(path_or_buf, StringIO)\n",
      "File \u001b[1;32m~\\anaconda3\\lib\\site-packages\\pandas\\io\\formats\\csvs.py:241\u001b[0m, in \u001b[0;36mCSVFormatter.save\u001b[1;34m(self)\u001b[0m\n\u001b[0;32m    237\u001b[0m \u001b[38;5;124;03m\"\"\"\u001b[39;00m\n\u001b[0;32m    238\u001b[0m \u001b[38;5;124;03mCreate the writer & save.\u001b[39;00m\n\u001b[0;32m    239\u001b[0m \u001b[38;5;124;03m\"\"\"\u001b[39;00m\n\u001b[0;32m    240\u001b[0m \u001b[38;5;66;03m# apply compression and byte/text conversion\u001b[39;00m\n\u001b[1;32m--> 241\u001b[0m \u001b[38;5;28;01mwith\u001b[39;00m \u001b[43mget_handle\u001b[49m\u001b[43m(\u001b[49m\n\u001b[0;32m    242\u001b[0m \u001b[43m    \u001b[49m\u001b[38;5;28;43mself\u001b[39;49m\u001b[38;5;241;43m.\u001b[39;49m\u001b[43mfilepath_or_buffer\u001b[49m\u001b[43m,\u001b[49m\n\u001b[0;32m    243\u001b[0m \u001b[43m    \u001b[49m\u001b[38;5;28;43mself\u001b[39;49m\u001b[38;5;241;43m.\u001b[39;49m\u001b[43mmode\u001b[49m\u001b[43m,\u001b[49m\n\u001b[0;32m    244\u001b[0m \u001b[43m    \u001b[49m\u001b[43mencoding\u001b[49m\u001b[38;5;241;43m=\u001b[39;49m\u001b[38;5;28;43mself\u001b[39;49m\u001b[38;5;241;43m.\u001b[39;49m\u001b[43mencoding\u001b[49m\u001b[43m,\u001b[49m\n\u001b[0;32m    245\u001b[0m \u001b[43m    \u001b[49m\u001b[43merrors\u001b[49m\u001b[38;5;241;43m=\u001b[39;49m\u001b[38;5;28;43mself\u001b[39;49m\u001b[38;5;241;43m.\u001b[39;49m\u001b[43merrors\u001b[49m\u001b[43m,\u001b[49m\n\u001b[0;32m    246\u001b[0m \u001b[43m    \u001b[49m\u001b[43mcompression\u001b[49m\u001b[38;5;241;43m=\u001b[39;49m\u001b[38;5;28;43mself\u001b[39;49m\u001b[38;5;241;43m.\u001b[39;49m\u001b[43mcompression\u001b[49m\u001b[43m,\u001b[49m\n\u001b[0;32m    247\u001b[0m \u001b[43m    \u001b[49m\u001b[43mstorage_options\u001b[49m\u001b[38;5;241;43m=\u001b[39;49m\u001b[38;5;28;43mself\u001b[39;49m\u001b[38;5;241;43m.\u001b[39;49m\u001b[43mstorage_options\u001b[49m\u001b[43m,\u001b[49m\n\u001b[0;32m    248\u001b[0m \u001b[43m\u001b[49m\u001b[43m)\u001b[49m \u001b[38;5;28;01mas\u001b[39;00m handles:\n\u001b[0;32m    249\u001b[0m \n\u001b[0;32m    250\u001b[0m     \u001b[38;5;66;03m# Note: self.encoding is irrelevant here\u001b[39;00m\n\u001b[0;32m    251\u001b[0m     \u001b[38;5;28mself\u001b[39m\u001b[38;5;241m.\u001b[39mwriter \u001b[38;5;241m=\u001b[39m csvlib\u001b[38;5;241m.\u001b[39mwriter(\n\u001b[0;32m    252\u001b[0m         handles\u001b[38;5;241m.\u001b[39mhandle,\n\u001b[0;32m    253\u001b[0m         lineterminator\u001b[38;5;241m=\u001b[39m\u001b[38;5;28mself\u001b[39m\u001b[38;5;241m.\u001b[39mline_terminator,\n\u001b[1;32m   (...)\u001b[0m\n\u001b[0;32m    258\u001b[0m         quotechar\u001b[38;5;241m=\u001b[39m\u001b[38;5;28mself\u001b[39m\u001b[38;5;241m.\u001b[39mquotechar,\n\u001b[0;32m    259\u001b[0m     )\n\u001b[0;32m    261\u001b[0m     \u001b[38;5;28mself\u001b[39m\u001b[38;5;241m.\u001b[39m_save()\n",
      "File \u001b[1;32m~\\anaconda3\\lib\\site-packages\\pandas\\io\\common.py:697\u001b[0m, in \u001b[0;36mget_handle\u001b[1;34m(path_or_buf, mode, encoding, compression, memory_map, is_text, errors, storage_options)\u001b[0m\n\u001b[0;32m    695\u001b[0m \u001b[38;5;66;03m# Only for write methods\u001b[39;00m\n\u001b[0;32m    696\u001b[0m \u001b[38;5;28;01mif\u001b[39;00m \u001b[38;5;124m\"\u001b[39m\u001b[38;5;124mr\u001b[39m\u001b[38;5;124m\"\u001b[39m \u001b[38;5;129;01mnot\u001b[39;00m \u001b[38;5;129;01min\u001b[39;00m mode \u001b[38;5;129;01mand\u001b[39;00m is_path:\n\u001b[1;32m--> 697\u001b[0m     \u001b[43mcheck_parent_directory\u001b[49m\u001b[43m(\u001b[49m\u001b[38;5;28;43mstr\u001b[39;49m\u001b[43m(\u001b[49m\u001b[43mhandle\u001b[49m\u001b[43m)\u001b[49m\u001b[43m)\u001b[49m\n\u001b[0;32m    699\u001b[0m \u001b[38;5;28;01mif\u001b[39;00m compression:\n\u001b[0;32m    700\u001b[0m     \u001b[38;5;28;01mif\u001b[39;00m compression \u001b[38;5;241m!=\u001b[39m \u001b[38;5;124m\"\u001b[39m\u001b[38;5;124mzstd\u001b[39m\u001b[38;5;124m\"\u001b[39m:\n\u001b[0;32m    701\u001b[0m         \u001b[38;5;66;03m# compression libraries do not like an explicit text-mode\u001b[39;00m\n",
      "File \u001b[1;32m~\\anaconda3\\lib\\site-packages\\pandas\\io\\common.py:571\u001b[0m, in \u001b[0;36mcheck_parent_directory\u001b[1;34m(path)\u001b[0m\n\u001b[0;32m    569\u001b[0m parent \u001b[38;5;241m=\u001b[39m Path(path)\u001b[38;5;241m.\u001b[39mparent\n\u001b[0;32m    570\u001b[0m \u001b[38;5;28;01mif\u001b[39;00m \u001b[38;5;129;01mnot\u001b[39;00m parent\u001b[38;5;241m.\u001b[39mis_dir():\n\u001b[1;32m--> 571\u001b[0m     \u001b[38;5;28;01mraise\u001b[39;00m \u001b[38;5;167;01mOSError\u001b[39;00m(\u001b[38;5;124mrf\u001b[39m\u001b[38;5;124m\"\u001b[39m\u001b[38;5;124mCannot save file into a non-existent directory: \u001b[39m\u001b[38;5;124m'\u001b[39m\u001b[38;5;132;01m{\u001b[39;00mparent\u001b[38;5;132;01m}\u001b[39;00m\u001b[38;5;124m'\u001b[39m\u001b[38;5;124m\"\u001b[39m)\n",
      "\u001b[1;31mOSError\u001b[0m: Cannot save file into a non-existent directory: 'data'"
     ]
    }
   ],
   "source": [
    "import pandas_datareader as pdr\n",
    "import datetime \n",
    "import pandas as pd\n",
    "aapl = pdr.get_data_yahoo('AAPL', \n",
    "                          start=datetime.datetime(2006, 10, 1), \n",
    "                          end=datetime.datetime(2012, 1, 1))\n",
    "\n",
    "aapl.to_csv('data/aapl_ohlc.csv')\n",
    "df = pd.read_csv('data/aapl_ohlc.csv', header=0, index_col='Date', parse_dates=True)\n",
    "# Inspect the index \n",
    "aapl.index\n",
    " \n",
    "# Inspect the columns\n",
    "aapl.columns\n",
    " \n",
    "# Select only the last 10 observations of `Close`\n",
    "ts = aapl['Close'][-10:]\n",
    " \n",
    "# Check the type of `ts` \n",
    "type(ts)\n"
   ]
  },
  {
   "cell_type": "markdown",
   "id": "ccc5f9e4",
   "metadata": {},
   "source": [
    "***Задание:*** Создайте простейший калькулятор, включающий основные действия для двух переменных ′+′,′−′,′∙′,′÷′, а также вычисление следующих функций: 𝑒𝑥+𝑦,sin(𝑥+𝑦),cos(𝑥+𝑦),𝑥𝑦.\n"
   ]
  },
  {
   "cell_type": "code",
   "execution_count": null,
   "id": "e9f85db8",
   "metadata": {},
   "outputs": [],
   "source": []
  }
 ],
 "metadata": {
  "kernelspec": {
   "display_name": "Python 3 (ipykernel)",
   "language": "python",
   "name": "python3"
  },
  "language_info": {
   "codemirror_mode": {
    "name": "ipython",
    "version": 3
   },
   "file_extension": ".py",
   "mimetype": "text/x-python",
   "name": "python",
   "nbconvert_exporter": "python",
   "pygments_lexer": "ipython3",
   "version": "3.9.12"
  }
 },
 "nbformat": 4,
 "nbformat_minor": 5
}
