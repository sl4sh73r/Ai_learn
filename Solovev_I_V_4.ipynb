{
 "cells": [
  {
   "cell_type": "markdown",
   "metadata": {
    "collapsed": true,
    "pycharm": {
     "name": "#%% md\n"
    }
   },
   "source": [
    "Дисциплина «Искусственный интеллект»\n",
    "Рабочая тетрадь № 4\n",
    "Регрессия – это зависимость среднего значения какой-либо величины\n",
    "от некоторой другой величины или от нескольких других величин. В\n",
    "отличие от чисто функциональной зависимости 𝑦 = 𝑓(𝑥), когда каждому\n",
    "значению независимой переменной 𝑥 соответствует одно определённое\n",
    "значение зависимой переменной у, при регрессионной связи одному и тому\n",
    "же значению независимой переменной (фактору) 𝑥 могут соответствовать в\n",
    "зависимости от конкретного случая различные значения зависимой\n",
    "переменной (отклика) у.\n",
    "Изучение регрессии основано на том, что случайные величины Х и 𝑌\n",
    "связаны между собой вероятностной зависимостью: при каждом\n",
    "конкретном значении 𝑋 = 𝑥 величина 𝑌 является случайной величиной с\n",
    "вполне определённым распределением вероятностей. Зависимость\n",
    "зависимой переменной – отклика от одной независимой переменной –\n",
    "фактора или нескольких факторов называется уравнением регрессии. По\n",
    "количеству факторов выделяют парную (однофакторную) и\n",
    "множественную (многофакторную) регрессию. Для парной будем\n",
    "рассматривать следующие методы регрессии: линейную, показательную,\n",
    "экспоненциальную, гиперболическую и параболическую.\n",
    "Регрессионный анализ – это раздел математической статистики,\n",
    "изучающий регрессионную зависимость между случайными величинами по\n",
    "статистическим данным. Цель регрессионного анализа состоит в\n",
    "определении общего вида уравнения регрессии, вычислении оценок\n",
    "неизвестных параметров, входящих в уравнение регрессии проверке\n",
    "статистических гипотез о регрессионной связи.\n",
    "Таким образом, регрессионный анализ – набор статистических\n",
    "методов исследования влияния одной или нескольких независимых\n",
    "переменных 𝑋1, … , 𝑋𝑛 на зависимую переменную 𝑌. Независимые\n",
    "переменные иначе называют регрессорами или предикторами, а зависимые\n",
    "переменные – критериальными переменными."
   ]
  },
  {
   "cell_type": "markdown",
   "source": [
    "1.1. Теоретический материал – Линейные регрессионные модели\n",
    "Линейная регрессия\n",
    "Линейная регрессия (Linear regression) – модель зависимости переменной\n",
    "x от одной или нескольких других переменных (факторов, регрессоров,\n",
    "независимых переменных) с линейной функцией зависимости. Линейная\n",
    "регрессия относится к задаче определения «линии наилучшего соответствия»\n",
    "через набор точек данных и стала простым предшественником нелинейных\n",
    "методов, которые используют для обучения нейронных сетей.\n",
    "Цель линейной регрессии — поиск линии, которая наилучшим образом\n",
    "соответствует этим точкам. Напомним, что общее уравнение для прямой есть\n",
    "𝑓 (𝑥) = 𝑏 + 𝑚 ⋅ 𝑥 +, где 𝑚 – наклон линии, а 𝑏 – его сдвиг.\n",
    "Функция потерь — метод наименьших квадратов\n",
    "Функция потерь – это мера количества ошибок, которые наша линейная\n",
    "регрессия делает на наборе данных. Хотя есть разные функции потерь, все они\n",
    "вычисляют расстояние между предсказанным значением 𝑦(х) и его\n",
    "фактическим значением.\n",
    "Одна очень распространенная функция потерь называется средней\n",
    "квадратичной ошибкой MSE. Чтобы вычислить MSE, мы просто берем все\n",
    "значения ошибок, считаем их квадраты длин и усредняем.\n",
    "Задача экраполяции\n",
    "Допустим у нас есть много экспериментальных точек. Необходимо через\n",
    "них провести кривую, которая как можно ближе проходила к этим точкам. При\n",
    "этом необходимо минимизировать среднюю квадратичную ошибку (MSE).\n",
    "Для решения данной задачи в Python есть множество библиотек. Самыми\n",
    "распостраненными выступают:\n",
    "numpy - numpy.linalg.lstsq\n",
    "scipy - scipy.linalg (содержит все функции из numpy.linalg плюс часть\n",
    "новых функций, которых нет в numpy.linalg)."
   ],
   "metadata": {
    "collapsed": false,
    "pycharm": {
     "name": "#%% md\n"
    }
   }
  },
  {
   "cell_type": "markdown",
   "source": [
    "1.1.1 Пример\n",
    "Задача:\n",
    "Проведем прямую 𝑦 = 𝑚𝑥 + 𝑏 через экспериментальные точки."
   ],
   "metadata": {
    "collapsed": false,
    "pycharm": {
     "name": "#%% md\n"
    }
   }
  },
  {
   "cell_type": "code",
   "execution_count": null,
   "outputs": [],
   "source": [
    "import numpy as np\n",
    "x = np.array([0, 1, 2, 3])\n",
    "y = np.array([-1, 0.2, 0.9, 2.1])\n",
    "#Перепишем линейное урабнение у = mx + с как у = Xp, где A = [[ × 1 ]] и p = [[m], [с]]\n",
    "#Построим А по х :\n",
    "A = np.vstack([x, np. ones(len(x))]).T\n",
    "#Используем метод istsq для решения его относительно вектора р.\n",
    "m, c = np.linalg.lstsq(A, y, rcond = None)[0]\n",
    "print(m, c)\n",
    "#Построим график полученной прямой и укажем на нем точки.\n",
    "import matplotlib.pyplot as plt\n",
    "plt.plot(x, y, 'o', label='Исходные данные', markersize=10)\n",
    "plt.plot(x, m*x + c, 'r', label='Линейная экстраполяция')\n",
    "plt.legend()\n",
    "plt.show()"
   ],
   "metadata": {
    "collapsed": false,
    "pycharm": {
     "name": "#%%\n"
    }
   }
  },
  {
   "cell_type": "markdown",
   "source": [
    "1.1.2 Пример\n",
    "Задача:\n",
    "Пусть 𝑥, 𝑦 – вектора длиной 𝑛 > 3 (точек > 3). Задача заключается в\n",
    "построении эстраполяционного полинома второго порядка (параболы). Таким\n",
    "образом, необходимо найти такие коэффициенты поринома 𝑎, 𝑏, 𝑐 по методу\n",
    "наименьших квадратов. Данные мтогут быть получены в результате\n",
    "измерений. Покажем пример генерации данных случайным образом и\n",
    "загрузки их из файла."
   ],
   "metadata": {
    "collapsed": false,
    "pycharm": {
     "name": "#%% md\n"
    }
   }
  },
  {
   "cell_type": "code",
   "source": [
    "from numpy import *\n",
    "\n",
    "from numpy.random import *\n",
    "#генерируем случайные х и у\n",
    "delta = 1.0\n",
    "x = linspace(-5,5,11)\n",
    "y = x**2+delta*(rand(11)-0.5)\n",
    "\n",
    "x += delta*(rand(11)-0.5)\n",
    "#записывае данные в файл\n",
    "x.tofile('x_data.txt', '\\n')\n",
    "y.tofile('y_data.txt', 'An')\n",
    "# читаем данные из файлов\n",
    "\n",
    "x = fromfile('x_data.txt', float, sep='\\n')\n",
    "y = fromfile('y_data.txt', float, sep='\\n')\n",
    "\n",
    "print(x)\n",
    "print(y)\n",
    "\n",
    "# Нахождение коэффициентов функции вида у = ax 2 + bx + с методом наименьших квадратов # задаем вектор т = [x**2, x, E]\n",
    "m = vstack((x**2, x, ones(11))).T # находим коэффициенты при составляющих вектора т\n",
    "s = np.linalg.lstsq(m, y, rcond = None)[0]\n",
    "# на отрезке [-5,5]\n",
    "x_prec = linspace(-5, 5, 101)\n",
    "# рисуем точки\n",
    "plt.plot(x, y, 'D')\n",
    "# рисуем кривую вида у = ax*2 + bx + с, подставляя из решения коэффициенты s[0], s[1], s[2]\n",
    "plt.plot(x_prec, s[0] * x_prec**2 + s[1] * x_prec+s[2], \"-\", lw=2)\n",
    "plt.grid()\n",
    "plt.savefig('парабола.png')"
   ],
   "metadata": {
    "collapsed": false,
    "pycharm": {
     "name": "#%%\n"
    }
   },
   "execution_count": null,
   "outputs": []
  },
  {
   "cell_type": "markdown",
   "source": [
    "1.1.3 Пример\n",
    "Задача:\n",
    "По данным предыдущего примера постройте эстраполяционного полинома\n",
    "третьего порядка"
   ],
   "metadata": {
    "collapsed": false,
    "pycharm": {
     "name": "#%% md\n"
    }
   }
  },
  {
   "cell_type": "code",
   "execution_count": null,
   "outputs": [],
   "source": [
    "#Решение\n",
    "# Нахождение коэффициентов функции вида у = ax*3 + bx*2 + сх + d методом наименьших квадратов # задаем вектор m = [x**3, x, E]\n",
    "m = vstack((x**3, x**2, x, ones(11))).T\n",
    "# находим коэффициенты при составляющих вектора т\n",
    "s = np.linalg.lstsq(m, y, rcond = None)[0]\n",
    "# на отрезке [-5,5]\n",
    "x_prec = linspace(-5, 5, 101)\n",
    "# рисуем точки\n",
    "plt.plot(x, y, 'D')\n",
    "# рисуем кривую вида у = ax*3 + bx*2 + cx + d, подставляя из решения коэффициенты s[0], s[1], s[2], s[3]\n",
    "plt.plot(x_prec, s[0] * x_prec**3 + s[1] * x_prec**2 + s[2]*x_prec + s[3],'-', lw = 3)\n",
    "plt. grid()\n",
    "plt.savefig('полином 3-й степени.png')"
   ],
   "metadata": {
    "collapsed": false,
    "pycharm": {
     "name": "#%%\n"
    }
   }
  },
  {
   "cell_type": "markdown",
   "source": [
    "1.1.3.1 Задание:\n",
    "Представьте собственные данные и постройте эктраполяцию полиномами\n",
    "первой, второй и третьей степени."
   ],
   "metadata": {
    "collapsed": false,
    "pycharm": {
     "name": "#%% md\n"
    }
   }
  },
  {
   "cell_type": "code",
   "execution_count": 19,
   "outputs": [
    {
     "data": {
      "text/plain": "<Figure size 640x480 with 1 Axes>",
      "image/png": "[encoded data removed]"
     },
     "metadata": {},
     "output_type": "display_data"
    }
   ],
   "source": [
    "from numpy import *\n",
    "from numpy.random import *\n",
    "import matplotlib.pyplot as plt\n",
    "import numpy as np\n",
    "\n",
    "delta = 1.0\n",
    "x = linspace(-10,10,13)\n",
    "y = x**2+delta*(rand(13)-1.5)\n",
    "x+=delta*(rand(13)-1.5)\n",
    "\n",
    "m = vstack((x,ones(13))).T\n",
    "s = np.linalg.lstsq(m,y,rcond=None)[0]\n",
    "\n",
    "x_prec = linspace(-10,10,149)\n",
    "\n",
    "plt.plot(x,y,'D')\n",
    "\n",
    "plt.plot(x_prec,s[0]*x_prec,'-',lw=1)\n",
    "plt.grid()\n",
    "plt.savefig('по идее прямая')"
   ],
   "metadata": {
    "collapsed": false,
    "pycharm": {
     "name": "#%%\n"
    }
   }
  },
  {
   "cell_type": "code",
   "execution_count": 21,
   "outputs": [
    {
     "data": {
      "text/plain": "<Figure size 640x480 with 1 Axes>",
      "image/png": "[encoded data removed]"
     },
     "metadata": {},
     "output_type": "display_data"
    }
   ],
   "source": [
    "from numpy import *\n",
    "from numpy.random import *\n",
    "import matplotlib.pyplot as plt\n",
    "import numpy as np\n",
    "\n",
    "delta = 1.0\n",
    "x = linspace(-10,10,13)\n",
    "y = x**2+delta*(rand(13)-1.5)\n",
    "x+=delta*(rand(13)-1.5)\n",
    "\n",
    "m = vstack((x**2, x,ones(13))).T\n",
    "s = np.linalg.lstsq(m,y,rcond=None)[0]\n",
    "\n",
    "x_prec = linspace(-10,10,149)\n",
    "\n",
    "plt.plot(x,y,'D')\n",
    "\n",
    "plt.plot(x_prec,s[0] * x_prec**2 + s[1]*x_prec + s[2],'-',lw=2)\n",
    "plt.grid()\n",
    "plt.savefig('по идее не прямая')"
   ],
   "metadata": {
    "collapsed": false,
    "pycharm": {
     "name": "#%%\n"
    }
   }
  },
  {
   "cell_type": "code",
   "execution_count": 22,
   "outputs": [
    {
     "data": {
      "text/plain": "<Figure size 640x480 with 1 Axes>",
      "image/png": "[encoded data removed]"
     },
     "metadata": {},
     "output_type": "display_data"
    }
   ],
   "source": [
    "from numpy import *\n",
    "from numpy.random import *\n",
    "import matplotlib.pyplot as plt\n",
    "import numpy as np\n",
    "\n",
    "delta = 1.0\n",
    "x = linspace(-10,10,13)\n",
    "y = x**2+delta*(rand(13)-1.5)\n",
    "x+=delta*(rand(13)-1.5)\n",
    "\n",
    "m = vstack((x**3,x**2, x,ones(13))).T\n",
    "s = np.linalg.lstsq(m,y,rcond=None)[0]\n",
    "\n",
    "x_prec = linspace(-10,10,149)\n",
    "\n",
    "plt.plot(x,y,'D')\n",
    "\n",
    "plt.plot(x_prec,s[0] * x_prec**3 + s[1] * x_prec**2 + s[2]*x_prec + s[3],'-',lw=2)\n",
    "plt.grid()\n",
    "plt.savefig('по идее не прямая')"
   ],
   "metadata": {
    "collapsed": false,
    "pycharm": {
     "name": "#%%\n"
    }
   }
  },
  {
   "cell_type": "markdown",
   "source": [
    "1.1.4 Пример\n",
    "Задача:\n",
    "Необходимо проверить гипотезу, что наши точечно заданная функция ложится\n",
    "на кривую вида 𝑓(𝑥, 𝑏) = 𝑏0 + 𝑏1𝑒𝑥𝑝(−𝑏2𝑥2)"
   ],
   "metadata": {
    "collapsed": false,
    "pycharm": {
     "name": "#%% md\n"
    }
   }
  },
  {
   "cell_type": "code",
   "execution_count": null,
   "outputs": [],
   "source": [
    "import scipy as sp\n",
    "\n",
    "#Добавим шума в данные, сделанные по функции f(x,b) с коэффициентами b = (0.25, 0.75, 0.5)\n",
    "beta = (0.25, 0.75, 0.5)\n",
    "def f(x, b0, b1, b2):\n",
    "    return b0 + b1 * np.exp(-b2 * x**2)\n",
    "# зададим массив точек xi\n",
    "xdata = np.linspace(0, 5, 50)\n",
    "# создаем теоретически правильные значения точек уi (без шума)\n",
    "y = f(xdata, *beta)\n",
    "# зашумляем эти данные\n",
    "ydata = y + 0.05 * np.random.randn(len(xdata))\n",
    "#Используем функцию для получения решения в виде коэффициентов функции f(x) для указанных xdata u ydata\n",
    "from scipy.optimize import curve_fit\n",
    "beta_opt, beta_cov = sp.optimize.curve_fit(f, xdata, ydata)\n",
    "beta_opt\n",
    "#Вычислим линейное отклонение\n",
    "lin_dev = sum(beta_cov[0])\n",
    "print(lin_dev)\n",
    "#Вычислим квадратичное отклонение\n",
    "residuals = ydata - f(xdata,*beta_opt)\n",
    "fres = sum(residuals**2)\n",
    "print(fres)\n",
    "fig, ax = plt.subplots()\n",
    "ax.scatter(xdata, ydata)\n",
    "ax.plot(xdata, y, 'r', lw=2)\n",
    "ax.plot(xdata, f(xdata, *beta_opt), 'b', lw=2)\n",
    "ax.set_xlim(0, 5)\n",
    "ax.set_xlabel(r\"Sx$\", fontsize=18)\n",
    "ax.set_ylabel(r\"$f(x, \\beta)$\", fontsize=18)\n",
    "plt.show()\n",
    "print(xdata)\n",
    "print(ydata)"
   ],
   "metadata": {
    "collapsed": false,
    "pycharm": {
     "name": "#%%\n"
    }
   }
  },
  {
   "cell_type": "markdown",
   "source": [
    "1.1.5 Пример\n",
    "Задача:\n",
    "Необходимо проверить гипотезу, что наши точечно заданная функция ложится\n",
    "на кривые вида:\n",
    "1) 𝑓(𝑥, 𝑏) = 𝑏0 + 𝑏1𝑥\n",
    "2) 𝑓(𝑥, 𝑏) = 𝑏0 + 𝑏1𝑥 + 𝑏2𝑥2\n",
    "3) 𝑓(𝑥, 𝑏) = 𝑏0 + 𝑏1𝑙𝑛(𝑥)\n",
    "4) 𝑓(𝑥, 𝑏) = 𝑏0 𝑥𝑏1"
   ],
   "metadata": {
    "collapsed": false,
    "pycharm": {
     "name": "#%% md\n"
    }
   }
  },
  {
   "cell_type": "code",
   "execution_count": null,
   "outputs": [],
   "source": [
    "import matplotlib.pyplot as plt\n",
    "import scipy as sp\n",
    "import numpy as np\n",
    "\n",
    "beta = (0.25, 0.75)\n",
    "\n",
    "\n",
    "def f(x, b0, b1):\n",
    "    return b0 + x * b1\n",
    "\n",
    "\n",
    "xdata = np.linspace(0, 5, 50)\n",
    "y = f(xdata, *beta)\n",
    "ydata = y + 0.05 * np.random.randn(len(xdata))\n",
    "beta_opt, beta_cov = sp.optimize.curve_fit(f, xdata, ydata)\n",
    "print(beta_opt)\n",
    "lin_dev = sum(beta_cov[0])\n",
    "print(lin_dev)\n",
    "residuals = ydata - f(xdata, *beta_opt)\n",
    "fres = sum(residuals ** 2)\n",
    "print(fres)\n",
    "fig, ax = plt.subplots()\n",
    "ax.scatter(xdata, ydata)\n",
    "ax.plot(xdata, y, 'r', lw=2)\n",
    "ax.plot(xdata, f(xdata, *beta_opt), 'b', lw=2)\n",
    "ax.set_xlim(0, 5)\n",
    "ax.set_xlabel(r\"$x$\", fontsize=18)\n",
    "ax.set_ylabel(r\"$f(x,\\beta$)\", fontsize=18)\n",
    "plt.show()\n",
    "#2\n",
    "beta = (0.25, 0.75, 0.5)\n",
    "\n",
    "\n",
    "def f(x, b0, b1, b2):\n",
    "    return b0 + x * b1 + x * x * b2\n",
    "\n",
    "\n",
    "xdata = np.linspace(0, 5, 50)\n",
    "y = f(xdata, *beta)\n",
    "ydata = y + 0.05 * np.random.randn(len(xdata))\n",
    "beta_opt, beta_cov = sp.optimize.curve_fit(f, xdata, ydata)\n",
    "print(beta_opt)\n",
    "lin_dev = sum(beta_cov[0])\n",
    "print(lin_dev)\n",
    "residuals = ydata - f(xdata, *beta_opt)\n",
    "fres = sum(residuals ** 2)\n",
    "print(fres)\n",
    "fig, ax = plt.subplots()\n",
    "ax.scatter(xdata, ydata)\n",
    "ax.plot(xdata, y, 'r', lw=2)\n",
    "ax.plot(xdata, f(xdata, *beta_opt), 'b', lw=2)\n",
    "ax.set_xlim(0, 5)\n",
    "ax.set_xlabel(r\"$x$\", fontsize=18)\n",
    "ax.set_ylabel(r\"$f(x,\\beta$)\", fontsize=18)\n",
    "plt.show()\n",
    "#3\n",
    "beta = (1, 2)\n",
    "\n",
    "\n",
    "def f(x, b0, b1):\n",
    "    return b0 + b1 * np.log(x)\n",
    "\n",
    "\n",
    "xdata = np.linspace(1, 5, 50)\n",
    "y = f(xdata, *beta)\n",
    "ydata = y + 0.05 * np.random.randn(len(xdata))\n",
    "beta_opt, beta_cov = sp.optimize.curve_fit(f, xdata, ydata)\n",
    "print(beta_opt)\n",
    "lin_dev = sum(beta_cov[0])\n",
    "print(lin_dev)\n",
    "residuals = ydata - f(xdata, *beta_opt)\n",
    "fres = sum(residuals ** 2)\n",
    "print(fres)\n",
    "fig, ax = plt.subplots()\n",
    "ax.scatter(xdata, ydata)\n",
    "ax.plot(xdata, y, 'r', lw=2)\n",
    "ax.plot(xdata, f(xdata, *beta_opt), 'b', lw=2)\n",
    "ax.set_xlim(0, 5)\n",
    "ax.set_xlabel(r\"$x$\", fontsize=18)\n",
    "ax.set_ylabel(r\"$f(x,\\beta$)\", fontsize=18)\n",
    "plt.show()\n",
    "#4\n",
    "beta = (1, 2)\n",
    "\n",
    "\n",
    "def f(x, b0, b1):\n",
    "    return b0 * x ** b1\n",
    "\n",
    "\n",
    "xdata = np.linspace(5, 10, 50)\n",
    "y = f(xdata, *beta)\n",
    "ydata = y + 0.05 * np.random.randn(len(xdata))\n",
    "beta_opt, beta_cov = sp.optimize.curve_fit(f, xdata, ydata)\n",
    "print(beta_opt)\n",
    "lin_dev = sum(beta_cov[0])\n",
    "print(lin_dev)\n",
    "residuals = ydata - f(xdata, *beta_opt)\n",
    "fres = sum(residuals ** 2)\n",
    "print(fres)\n",
    "fig, ax = plt.subplots()\n",
    "ax.scatter(xdata, ydata)\n",
    "ax.plot(xdata, y, 'r', lw=2)\n",
    "ax.plot(xdata, f(xdata, *beta_opt), 'b', lw=2)\n",
    "ax.set_xlim(4, 10)\n",
    "ax.set_xlabel(r\"$x$\", fontsize=18)\n",
    "ax.set_ylabel(r\"$f(x,\\beta$)\", fontsize=18)\n",
    "plt.show()"
   ],
   "metadata": {
    "collapsed": false,
    "pycharm": {
     "name": "#%%\n"
    }
   }
  },
  {
   "cell_type": "markdown",
   "source": [
    "Задание:\n",
    "Подставьте собственные данные и поэкспериментируйте с представленными\n",
    "функциями. Проанализируйте динамику изменения данных."
   ],
   "metadata": {
    "collapsed": false,
    "pycharm": {
     "name": "#%% md\n"
    }
   }
  },
  {
   "cell_type": "markdown",
   "source": [
    "def f(x, b0, b1):\n",
    "    return b0 + x * b1\n",
    "\n",
    "\n",
    "xdata = np.linspace(0, 5, 55)\n",
    "y = f(xdata, *beta)\n",
    "ydata = y + 0.05 * np.random.randn(len(xdata))\n",
    "beta_opt, beta_cov = sp.optimize.curve_fit(f, xdata, ydata)\n",
    "print(beta_opt)\n",
    "lin_dev = sum(beta_cov[0])\n",
    "print(lin_dev)\n",
    "residuals = ydata - f(xdata, *beta_opt)\n",
    "fres = sum(residuals ** 2)\n",
    "print(fres)\n",
    "fig, ax = plt.subplots()\n",
    "ax.scatter(xdata, ydata)\n",
    "ax.plot(xdata, y, 'r', lw=2)\n",
    "ax.plot(xdata, f(xdata, *beta_opt), 'b', lw=2)\n",
    "ax.set_xlim(0, 5)\n",
    "ax.set_xlabel(r\"$x$\", fontsize=18)\n",
    "ax.set_ylabel(r\"$f(x,\\beta$)\", fontsize=18)\n",
    "plt.show()\n",
    "#2\n",
    "beta = (0.25, 0.75, 0.55)\n",
    "\n",
    "\n",
    "def f(x, b0, b1, b2):\n",
    "    return b0 + x * b1 + x * x * b2\n",
    "\n",
    "\n",
    "xdata = np.linspace(0, 5, 55)\n",
    "y = f(xdata, *beta)\n",
    "ydata = y + 0.05 * np.random.randn(len(xdata))\n",
    "beta_opt, beta_cov = sp.optimize.curve_fit(f, xdata, ydata)\n",
    "print(beta_opt)\n",
    "lin_dev = sum(beta_cov[0])\n",
    "print(lin_dev)\n",
    "residuals = ydata - f(xdata, *beta_opt)\n",
    "fres = sum(residuals ** 2)\n",
    "print(fres)\n",
    "fig, ax = plt.subplots()\n",
    "ax.scatter(xdata, ydata)\n",
    "ax.plot(xdata, y, 'r', lw=2)\n",
    "ax.plot(xdata, f(xdata, *beta_opt), 'b', lw=2)\n",
    "ax.set_xlim(0, 5)\n",
    "ax.set_xlabel(r\"$x$\", fontsize=18)\n",
    "ax.set_ylabel(r\"$f(x,\\beta$)\", fontsize=18)\n",
    "plt.show()\n",
    "#3\n",
    "beta = (1, 4)\n",
    "\n",
    "\n",
    "def f(x, b0, b1):\n",
    "    return b0 + b1 * np.log(x)\n",
    "\n",
    "\n",
    "xdata = np.linspace(1, 5, 55)\n",
    "y = f(xdata, *beta)\n",
    "ydata = y + 0.05 * np.random.randn(len(xdata))\n",
    "beta_opt, beta_cov = sp.optimize.curve_fit(f, xdata, ydata)\n",
    "print(beta_opt)\n",
    "lin_dev = sum(beta_cov[0])\n",
    "print(lin_dev)\n",
    "residuals = ydata - f(xdata, *beta_opt)\n",
    "fres = sum(residuals ** 2)\n",
    "print(fres)\n",
    "fig, ax = plt.subplots()\n",
    "ax.scatter(xdata, ydata)\n",
    "ax.plot(xdata, y, 'r', lw=2)\n",
    "ax.plot(xdata, f(xdata, *beta_opt), 'b', lw=2)\n",
    "ax.set_xlim(0, 5)\n",
    "ax.set_xlabel(r\"$x$\", fontsize=18)\n",
    "ax.set_ylabel(r\"$f(x,\\beta$)\", fontsize=18)\n",
    "plt.show()\n",
    "#4\n",
    "beta = (1, 2)\n",
    "\n",
    "\n",
    "def f(x, b0, b1):\n",
    "    return b0 * x ** b1\n",
    "\n",
    "\n",
    "xdata = np.linspace(5, 10, 55)\n",
    "y = f(xdata, *beta)\n",
    "ydata = y + 0.05 * np.random.randn(len(xdata))\n",
    "beta_opt, beta_cov = sp.optimize.curve_fit(f, xdata, ydata)\n",
    "print(beta_opt)\n",
    "lin_dev = sum(beta_cov[0])\n",
    "print(lin_dev)\n",
    "residuals = ydata - f(xdata, *beta_opt)\n",
    "fres = sum(residuals ** 2)\n",
    "print(fres)\n",
    "fig, ax = plt.subplots()\n",
    "ax.scatter(xdata, ydata)\n",
    "ax.plot(xdata, y, 'r', lw=2)\n",
    "ax.plot(xdata, f(xdata, *beta_opt), 'b', lw=2)\n",
    "ax.set_xlim(4, 12)\n",
    "ax.set_xlabel(r\"$x$\", fontsize=18)\n",
    "ax.set_ylabel(r\"$f(x,\\beta$)\", fontsize=18)\n",
    "plt.show()"
   ],
   "metadata": {
    "collapsed": false,
    "pycharm": {
     "name": "#%% md\n"
    }
   }
  },
  {
   "cell_type": "markdown",
   "source": [
    "1.2. Теоретический материал – Задачи регрессии\n",
    "Линейная регрессия - это широко используемый метод статистического\n",
    "анализа, который использует регрессионный анализ в математической\n",
    "статистике для определения количественной взаимосвязи между двумя или\n",
    "более переменными. Если регрессионный анализ включает две или более\n",
    "независимых переменных, а связь между зависимой и независимой\n",
    "переменными является линейной, тогда имееи дело с множественной линейной\n",
    "регрессией.\n",
    "В этом разделе мы увидим, как библиотеку Scikit-Learn в Python для машинного\n",
    "обучения можно использовать для реализации функций регрессии. Мы начнем\n",
    "с простой линейной регрессии с участием двух переменных, а затем перейдем к\n",
    "линейной регрессии с участием нескольких переменных."
   ],
   "metadata": {
    "collapsed": false,
    "pycharm": {
     "name": "#%% md\n"
    }
   }
  },
  {
   "cell_type": "markdown",
   "source": [
    "1.2.1 Пример\n",
    "Задача:\n",
    "Построим простую линейную регрессию в Python с использованием\n",
    "библиотеки scikit-learn"
   ],
   "metadata": {
    "collapsed": false,
    "pycharm": {
     "name": "#%% md\n"
    }
   }
  },
  {
   "cell_type": "code",
   "execution_count": null,
   "outputs": [],
   "source": [
    "#Импортируем необходимые библиотеки\n",
    "#используем pandas и питру для обработки данных,\n",
    "#matplotlib для визуализации и sklearn для обучения наборов данных и импорта моделей. import pandas as pd\n",
    "import numpy as np\n",
    "import matplotlib.pyplot as plt\n",
    "import pandas as pd\n",
    "from pandas import DataFrame, Series\n",
    "from sklearn.model_selection import train_test_split\n",
    "from sklearn.linear_model import LinearRegression\n",
    "#создадим набор данных для описания взаимосбязи между временем обучения студентов и успебаемостью\n",
    "my_dict = {\"Учебное время\": [0.50,0.75,1.00,1.25,1.50,1.75,1.75,2.00,2.25,2.50,2.75,3.00,3.25,3.50,4.00,4.25,4.50,4.75,\n",
    "5.e0,5.50],\n",
    "        \"Оценка\": [10,22,13,43,20,22,33,50,62,48,55,75,62,73,81,76,64,82,90,93]}\n",
    "dataset = pd.DataFrame(my_dict)\n",
    "dataset.head()\n",
    " #Исследуем набор данных\n",
    "print(dataset.shape)\n",
    "dataset. describe()\n",
    "# Нарисуем точечную диаграмму\n",
    "plt.scatter (dataset['Учебное время'], dataset['Оценка'], color = 'b', label = \"данные экзамена\")\n",
    "plt.xlabel(\"Часы\")\n",
    "plt.ylabel(\"Оценка\")\n",
    "plt.show()"
   ],
   "metadata": {
    "collapsed": false,
    "pycharm": {
     "name": "#%%\n"
    }
   }
  },
  {
   "cell_type": "markdown",
   "source": [
    "После того как мы получили представление о данных, разделим информацию\n",
    "на «атрибуты» и «метки». Атрибуты – это независимые переменные, а метки\n",
    "– это зависимые переменные, значения которых должны быть предсказаны. В\n",
    "нашем наборе всего два столбца и необходимо предсказать оценку в\n",
    "зависимости от количества часов. Чтобы извлечь атрибуты и метки,\n",
    "выполните следующий скрипт:"
   ],
   "metadata": {
    "collapsed": false,
    "pycharm": {
     "name": "#%% md\n"
    }
   }
  },
  {
   "cell_type": "code",
   "execution_count": null,
   "outputs": [],
   "source": [
    "X = dataset.iloc[:, :-1].values\n",
    "y = dataset.iloc[:, 1].values\n",
    "print(X)\n",
    "print(y)\n",
    "# Теперь, когда у нас есть атрибуты и метки, необходимо разделить их на а обучающий и тестовый наборы.\n",
    "# Приведенный фрагмент разделяет 80% данных на обучающий набор, а 20% данных - на набар тестов\n",
    "X_train, X_test, y_train, y_test = train_test_split(X, y, test_size = 0.2, random_state = 0)\n",
    "# далее можно обучить алгоритм линейной регрессии\n",
    "# необходимо импортировать класс LinearRegression, создать его экземпляр и вызвать метод fit()\n",
    "regressor = LinearRegression()\n",
    "regressor.fit(X_train, y_train)\n",
    "#приведем получившиеся коэффициенты для линии регрессии print(regressor.intercept\n",
    "print(regressor.coef_)"
   ],
   "metadata": {
    "collapsed": false,
    "pycharm": {
     "name": "#%%\n"
    }
   }
  },
  {
   "cell_type": "markdown",
   "source": [
    "Получившийся результат можно интерпретировать следующим образом: с\n",
    "каждым затраченным часом на обучение результат экзамена повышается\n",
    "приблизительно на 17 баллов. Далее можно построить прогнозы. Для этого мы\n",
    "будем использовать наши тестовые данные и посмотрим, насколько точно наш\n",
    "алгоритм предсказывает процентную оценку. Чтобы сделать прогноз на\n",
    "тестовых данных необходимо выполнить следующий код:"
   ],
   "metadata": {
    "collapsed": false,
    "pycharm": {
     "name": "#%% md\n"
    }
   }
  },
  {
   "cell_type": "code",
   "execution_count": null,
   "outputs": [],
   "source": [
    "y_pred = regressor.predict(X_test)\n",
    "# сравним фактические значения с прогнозируемыми\n",
    "df = pd.DataFrame({'Actual': y_test, 'Predicted': y_pred})\n",
    "df\n",
    "# визуализируем результат сравнения в виде гистограммы\n",
    "df.plot(kind='bar')\n",
    "plt.grid(which='major', linestyle='-', linewidth='0.5', color='green')\n",
    "plt.grid(which='minor', linestyle=':', linewidth='0.5', color='black')\n",
    "plt.show()\n",
    "#построим линию регрессии с тестовыми данными\n",
    "plt.scatter(X_test, y_test, color=\"gray\")\n",
    "plt.plot(X_test, y_pred, color='red', linewidth=2)\n",
    "plt.show()"
   ],
   "metadata": {
    "collapsed": false,
    "pycharm": {
     "name": "#%%\n"
    }
   }
  },
  {
   "cell_type": "markdown",
   "source": [
    "1.3. Теоретический материал – Множественная регрессия\n",
    "В предыдущем примере мы проиллюстрировали линейную регрессию\n",
    "с двумя переменными. Однако, почти все реальные задачи имеют больше\n",
    "параметров. Линейная регрессия с участием нескольких переменных\n",
    "называется «множественной линейной регрессией» или многомерной\n",
    "линейной регрессией. Шаги для выполнения множественной линейной\n",
    "регрессии аналогичны шагам для простой . Разница заключается в оценке.\n",
    "Вы можете использовать множественную регрессию, чтобы узнать, какой\n",
    "фактор оказывает наибольшее влияние на прогнозируемый результат или\n",
    "как различные переменные связаны друг с другом."
   ],
   "metadata": {
    "collapsed": false,
    "pycharm": {
     "name": "#%% md\n"
    }
   }
  },
  {
   "cell_type": "markdown",
   "source": [
    "1.3.1 Пример\n",
    "Задача:\n",
    "Для решения задачи множественной регрессии можно задействовать уже\n",
    "известный метод numpy.linalg.lstsq."
   ],
   "metadata": {
    "collapsed": false,
    "pycharm": {
     "name": "#%% md\n"
    }
   }
  },
  {
   "cell_type": "code",
   "execution_count": null,
   "outputs": [],
   "source": [
    "import numpy as np\n",
    "y = [1,2,3,4,3,4,5,3,5,5,4,5,4,5,4,5,6,0,6,3,1,3,1]\n",
    "X = [[0,2,4,1,5,4,5,9,9,9,3,7,8,8,6,6,5,5,5,6,6,5,5], [4,1,2,3,4,5,6,7,5,8,7,8,7,8,7,8,6,8,9,2,1,5,6], [4,1,2,5,6,7,8,9,7,8,7,8,7,4,3,1,2,3,4,1,3,9,7]]\n",
    "X = np.transpose(X) # transpose so input vectors\n",
    "X = np.c_[X, np.ones(X.shape[0])] # add bias term\n",
    "linreg = np.linalg.lstsq(X, y, rcond=None)[0]\n",
    "print(linreg)"
   ],
   "metadata": {
    "collapsed": false,
    "pycharm": {
     "name": "#%%\n"
    }
   }
  },
  {
   "cell_type": "markdown",
   "source": [
    "1.3.2 Пример\n",
    "Задача:\n",
    "Для данных из предыдущей задачи построить модель множественной\n",
    "линейной регрессии с использованием средств библиотеки sсikit-learn."
   ],
   "metadata": {
    "collapsed": false,
    "pycharm": {
     "name": "#%% md\n"
    }
   }
  },
  {
   "cell_type": "code",
   "execution_count": null,
   "outputs": [],
   "source": [
    "import pandas as pd\n",
    "import numpy as np\n",
    "import matplotlib.pyplot as plt\n",
    "import seaborn as seabornInstance\n",
    "from sklearn.model_selection import train_test_split\n",
    "from sklearn.linear_model import LinearRegression\n",
    "from sklearn import metrics\n",
    "y = [1,2,3,4,3,4,5,3,5,5,4,5,4,5,4,5,6,0,6,3,1,3,1]\n",
    "X = [[0,2,4,1,5,4,5,9,9,9,3,7,8,8,6,6,5,5,5,6,6,5,5], [4,1,2,3,4,5,6,7,5,8,7,8,7,8,7,8,6,8,9,2,1,5,6], [4,1,2,5,6,7,8,9,7,8,7,8,7,4,3,1,2,3,4,1,3,9,7]]\n",
    "# формируем DataFrame из дбух спискоб\n",
    "new_y = np.array(y)\n",
    "new_y = new_y.transpose()\n",
    "df1 = pd. DataFrame(new_y)\n",
    "new_X = np. array(X)\n",
    "new_X = new_X.transpose()\n",
    "df2 = pd.DataFrame(new_X)\n",
    "df1 = df1.rename(columns = {0: 'y'}, inplace = False)\n",
    "df2 = df2.rename(columns = {0: 'x1', 1: 'x2', 2: 'x3'}, inplace = False)\n",
    "frames = [df1, df2]\n",
    "dataset = pd.concat([df1, df2], axis=1, join=\"inner\")\n",
    "dataset. head()\n",
    "# изучим данные\n",
    "print(dataset.shape)\n",
    "dataset. describe()\n",
    "# разделим данные на метки и атрибуты\n",
    "x - dataset[['x1', 'x2', 'x3']]\n",
    "y - dataset['y']\n",
    "# разделим данные на обучашую и тестобую быборки\n",
    "X_train, X_test, y_train, y_test = train_test_split(X, y, test_size=0.2, random_state=0.1)\n",
    "\n",
    "regressor= LinearRegression()\n",
    "regressor.Fit(X_train, y_train)\n",
    "\n",
    "#выведем коэффициенты модели\n",
    "coeff_df = pd.DataFrame(regressor.coef_, X.columns, columns=['Coefficient'])\n",
    "coeff_df\n",
    "#Чтобы сделать прогнозы на тестовых данных, выполните следующий код\n",
    "y_pred = regressor.predict(X_test)\n",
    "df = pd.DataFrame({'Actual': y_test, 'Predicted': y_pred})\n",
    "df\n",
    "#Последний - сценить произбодительность алгоритма, Мы сделаем это, майдл значения для MSE\n",
    "print(\"Mean Squared Errors\", metrics.nean_squared_error(y_test, y_pred))"
   ],
   "metadata": {
    "collapsed": false,
    "pycharm": {
     "name": "#%%\n"
    }
   }
  },
  {
   "cell_type": "markdown",
   "source": [
    "Задание\n",
    "Задача:\n",
    "Постройте модель множественной линейной регрессии для произвольных\n",
    "данных из нескольких столбцов. Для примера можно взять потребления\n",
    "газа (в миллионах галлонов) в 48 штатах США или набор данных о\n",
    "качестве красного вина (1) и (2) соответственно. Найдите коэффициенты\n",
    "множественной регрессии. Постройте прогноз.\n",
    "1.\n",
    "https://raw.githubusercontent.com/likarajo/petrol_consumption/master/data/pe\n",
    "trol_consumption.csv\n",
    "2. https://raw.githubusercontent.com/aniruddhachoudhury/Red-Wine-Quality/master/winequality-red.csv"
   ],
   "metadata": {
    "collapsed": false,
    "pycharm": {
     "name": "#%% md\n"
    }
   }
  },
  {
   "cell_type": "code",
   "execution_count": 25,
   "outputs": [
    {
     "name": "stdout",
     "output_type": "stream",
     "text": [
      "(48, 5)\n"
     ]
    },
    {
     "data": {
      "text/plain": "       Petrol_tax  Average_income  Paved_Highways  \\\ncount   48.000000       48.000000       48.000000   \nmean     7.668333     4241.833333     5565.416667   \nstd      0.950770      573.623768     3491.507166   \nmin      5.000000     3063.000000      431.000000   \n25%      7.000000     3739.000000     3110.250000   \n50%      7.500000     4298.000000     4735.500000   \n75%      8.125000     4578.750000     7156.000000   \nmax     10.000000     5342.000000    17782.000000   \n\n       Population_Driver_licence(%)  Petrol_Consumption  \ncount                     48.000000           48.000000  \nmean                       0.570333          576.770833  \nstd                        0.055470          111.885816  \nmin                        0.451000          344.000000  \n25%                        0.529750          509.500000  \n50%                        0.564500          568.500000  \n75%                        0.595250          632.750000  \nmax                        0.724000          968.000000  ",
      "text/html": "<div>\n<style scoped>\n    .dataframe tbody tr th:only-of-type {\n        vertical-align: middle;\n    }\n\n    .dataframe tbody tr th {\n        vertical-align: top;\n    }\n\n    .dataframe thead th {\n        text-align: right;\n    }\n</style>\n<table border=\"1\" class=\"dataframe\">\n  <thead>\n    <tr style=\"text-align: right;\">\n      <th></th>\n      <th>Petrol_tax</th>\n      <th>Average_income</th>\n      <th>Paved_Highways</th>\n      <th>Population_Driver_licence(%)</th>\n      <th>Petrol_Consumption</th>\n    </tr>\n  </thead>\n  <tbody>\n    <tr>\n      <th>count</th>\n      <td>48.000000</td>\n      <td>48.000000</td>\n      <td>48.000000</td>\n      <td>48.000000</td>\n      <td>48.000000</td>\n    </tr>\n    <tr>\n      <th>mean</th>\n      <td>7.668333</td>\n      <td>4241.833333</td>\n      <td>5565.416667</td>\n      <td>0.570333</td>\n      <td>576.770833</td>\n    </tr>\n    <tr>\n      <th>std</th>\n      <td>0.950770</td>\n      <td>573.623768</td>\n      <td>3491.507166</td>\n      <td>0.055470</td>\n      <td>111.885816</td>\n    </tr>\n    <tr>\n      <th>min</th>\n      <td>5.000000</td>\n      <td>3063.000000</td>\n      <td>431.000000</td>\n      <td>0.451000</td>\n      <td>344.000000</td>\n    </tr>\n    <tr>\n      <th>25%</th>\n      <td>7.000000</td>\n      <td>3739.000000</td>\n      <td>3110.250000</td>\n      <td>0.529750</td>\n      <td>509.500000</td>\n    </tr>\n    <tr>\n      <th>50%</th>\n      <td>7.500000</td>\n      <td>4298.000000</td>\n      <td>4735.500000</td>\n      <td>0.564500</td>\n      <td>568.500000</td>\n    </tr>\n    <tr>\n      <th>75%</th>\n      <td>8.125000</td>\n      <td>4578.750000</td>\n      <td>7156.000000</td>\n      <td>0.595250</td>\n      <td>632.750000</td>\n    </tr>\n    <tr>\n      <th>max</th>\n      <td>10.000000</td>\n      <td>5342.000000</td>\n      <td>17782.000000</td>\n      <td>0.724000</td>\n      <td>968.000000</td>\n    </tr>\n  </tbody>\n</table>\n</div>"
     },
     "execution_count": 25,
     "metadata": {},
     "output_type": "execute_result"
    }
   ],
   "source": [
    "import pandas as pd\n",
    "from sklearn.model_selection import train_test_split\n",
    "from sklearn.linear_model import LinearRegression\n",
    "\n",
    "\n",
    "url='https://raw.githubusercontent.com/likarajo/petrol_consumption/master/data/petrol_consumption.csv'\n",
    "dataframe=pd.read_csv(url)\n",
    "dataframe.head()\n",
    "print(dataframe.shape)\n",
    "dataframe.describe()"
   ],
   "metadata": {
    "collapsed": false,
    "pycharm": {
     "name": "#%%\n"
    }
   }
  },
  {
   "cell_type": "code",
   "execution_count": 34,
   "outputs": [
    {
     "data": {
      "text/plain": "<Figure size 640x480 with 1 Axes>",
      "image/png": "[encoded data removed]"
     },
     "metadata": {},
     "output_type": "display_data"
    }
   ],
   "source": [
    "dataframe.plot(x=\"Petrol_tax\",y=['Paved_Highways','Petrol_Consumption','Population_Driver_licence(%)'],kind=\"bar\")\n",
    "plt.xlabel(\"Штаты\")\n",
    "plt.ylabel(\"Потребление бензина\")\n",
    "plt.show()"
   ],
   "metadata": {
    "collapsed": false,
    "pycharm": {
     "name": "#%%\n"
    }
   }
  },
  {
   "cell_type": "code",
   "execution_count": 36,
   "outputs": [
    {
     "name": "stdout",
     "output_type": "stream",
     "text": [
      "    Average_income  Population_Driver_licence(%)  Petrol_Consumption\n",
      "0             3571                         0.525                 541\n",
      "1             4092                         0.572                 524\n",
      "2             3865                         0.580                 561\n",
      "3             4870                         0.529                 414\n",
      "4             4399                         0.544                 410\n",
      "5             5342                         0.571                 457\n",
      "6             5319                         0.451                 344\n",
      "7             5126                         0.553                 467\n",
      "8             4447                         0.529                 464\n",
      "9             4512                         0.552                 498\n",
      "10            4391                         0.530                 580\n",
      "11            5126                         0.525                 471\n",
      "12            4817                         0.574                 525\n",
      "13            4207                         0.545                 508\n",
      "14            4332                         0.608                 566\n",
      "15            4318                         0.586                 635\n",
      "16            4206                         0.572                 603\n",
      "17            3718                         0.540                 714\n",
      "18            4716                         0.724                 865\n",
      "19            4341                         0.677                 640\n",
      "20            4593                         0.663                 649\n",
      "21            4983                         0.602                 540\n",
      "22            4897                         0.511                 464\n",
      "23            4258                         0.517                 547\n",
      "24            4574                         0.551                 460\n",
      "25            3721                         0.544                 566\n",
      "26            3448                         0.548                 577\n",
      "27            3846                         0.579                 631\n",
      "28            4188                         0.563                 574\n",
      "29            3601                         0.493                 534\n",
      "30            3640                         0.518                 571\n",
      "31            3333                         0.513                 554\n",
      "32            3063                         0.578                 577\n",
      "33            3357                         0.547                 628\n",
      "34            3528                         0.487                 487\n",
      "35            3802                         0.629                 644\n",
      "36            4045                         0.566                 640\n",
      "37            3897                         0.586                 704\n",
      "38            3635                         0.663                 648\n",
      "39            4345                         0.672                 968\n",
      "40            4449                         0.626                 587\n",
      "41            3656                         0.563                 699\n",
      "42            4300                         0.603                 632\n",
      "43            3745                         0.508                 591\n",
      "44            5215                         0.672                 782\n",
      "45            4476                         0.571                 510\n",
      "46            4296                         0.623                 610\n",
      "47            5002                         0.593                 524\n",
      "0      9.00\n",
      "1      9.00\n",
      "2      9.00\n",
      "3      7.50\n",
      "4      8.00\n",
      "5     10.00\n",
      "6      8.00\n",
      "7      8.00\n",
      "8      8.00\n",
      "9      7.00\n",
      "10     8.00\n",
      "11     7.50\n",
      "12     7.00\n",
      "13     7.00\n",
      "14     7.00\n",
      "15     7.00\n",
      "16     7.00\n",
      "17     7.00\n",
      "18     7.00\n",
      "19     8.50\n",
      "20     7.00\n",
      "21     8.00\n",
      "22     9.00\n",
      "23     9.00\n",
      "24     8.50\n",
      "25     9.00\n",
      "26     8.00\n",
      "27     7.50\n",
      "28     8.00\n",
      "29     9.00\n",
      "30     7.00\n",
      "31     7.00\n",
      "32     8.00\n",
      "33     7.50\n",
      "34     8.00\n",
      "35     6.58\n",
      "36     5.00\n",
      "37     7.00\n",
      "38     8.50\n",
      "39     7.00\n",
      "40     7.00\n",
      "41     7.00\n",
      "42     7.00\n",
      "43     7.00\n",
      "44     6.00\n",
      "45     9.00\n",
      "46     7.00\n",
      "47     7.00\n",
      "Name: Petrol_tax, dtype: float64\n"
     ]
    }
   ],
   "source": [
    "X=dataframe[['Average_income','Population_Driver_licence(%)','Petrol_Consumption']]\n",
    "y=dataframe['Petrol_tax']\n",
    "print(X)\n",
    "print(y)"
   ],
   "metadata": {
    "collapsed": false,
    "pycharm": {
     "name": "#%%\n"
    }
   }
  },
  {
   "cell_type": "code",
   "execution_count": 38,
   "outputs": [],
   "source": [
    "from sklearn.model_selection import train_test_split\n",
    "X_train,X_test,y_train,y_test=train_test_split(X,y,test_size=0.2,random_state=0)"
   ],
   "metadata": {
    "collapsed": false,
    "pycharm": {
     "name": "#%%\n"
    }
   }
  },
  {
   "cell_type": "code",
   "execution_count": 41,
   "outputs": [
    {
     "data": {
      "text/plain": "                              Коэффициент\nAverage_income                  -0.000282\nPopulation_Driver_licence(%)     4.513605\nPetrol_Consumption              -0.005763",
      "text/html": "<div>\n<style scoped>\n    .dataframe tbody tr th:only-of-type {\n        vertical-align: middle;\n    }\n\n    .dataframe tbody tr th {\n        vertical-align: top;\n    }\n\n    .dataframe thead th {\n        text-align: right;\n    }\n</style>\n<table border=\"1\" class=\"dataframe\">\n  <thead>\n    <tr style=\"text-align: right;\">\n      <th></th>\n      <th>Коэффициент</th>\n    </tr>\n  </thead>\n  <tbody>\n    <tr>\n      <th>Average_income</th>\n      <td>-0.000282</td>\n    </tr>\n    <tr>\n      <th>Population_Driver_licence(%)</th>\n      <td>4.513605</td>\n    </tr>\n    <tr>\n      <th>Petrol_Consumption</th>\n      <td>-0.005763</td>\n    </tr>\n  </tbody>\n</table>\n</div>"
     },
     "execution_count": 41,
     "metadata": {},
     "output_type": "execute_result"
    }
   ],
   "source": [
    "from sklearn.linear_model import LinearRegression\n",
    "regressor=LinearRegression()\n",
    "regressor.fit(X_train,y_train)\n",
    "coef_df=pd.DataFrame(regressor.coef_,X.columns,columns=['Коэффициент'])\n",
    "coef_df"
   ],
   "metadata": {
    "collapsed": false,
    "pycharm": {
     "name": "#%%\n"
    }
   }
  },
  {
   "cell_type": "code",
   "execution_count": 42,
   "outputs": [
    {
     "data": {
      "text/plain": "    Actual  Predicted\n29     9.0   7.745885\n4      8.0   8.466001\n26     8.0   7.789398\n30     7.0   7.634500\n32     8.0   8.033229\n37     7.0   7.102528\n34     8.0   8.010238\n40     7.0   7.801928\n7      8.0   7.973379\n10     8.0   7.425299",
      "text/html": "<div>\n<style scoped>\n    .dataframe tbody tr th:only-of-type {\n        vertical-align: middle;\n    }\n\n    .dataframe tbody tr th {\n        vertical-align: top;\n    }\n\n    .dataframe thead th {\n        text-align: right;\n    }\n</style>\n<table border=\"1\" class=\"dataframe\">\n  <thead>\n    <tr style=\"text-align: right;\">\n      <th></th>\n      <th>Actual</th>\n      <th>Predicted</th>\n    </tr>\n  </thead>\n  <tbody>\n    <tr>\n      <th>29</th>\n      <td>9.0</td>\n      <td>7.745885</td>\n    </tr>\n    <tr>\n      <th>4</th>\n      <td>8.0</td>\n      <td>8.466001</td>\n    </tr>\n    <tr>\n      <th>26</th>\n      <td>8.0</td>\n      <td>7.789398</td>\n    </tr>\n    <tr>\n      <th>30</th>\n      <td>7.0</td>\n      <td>7.634500</td>\n    </tr>\n    <tr>\n      <th>32</th>\n      <td>8.0</td>\n      <td>8.033229</td>\n    </tr>\n    <tr>\n      <th>37</th>\n      <td>7.0</td>\n      <td>7.102528</td>\n    </tr>\n    <tr>\n      <th>34</th>\n      <td>8.0</td>\n      <td>8.010238</td>\n    </tr>\n    <tr>\n      <th>40</th>\n      <td>7.0</td>\n      <td>7.801928</td>\n    </tr>\n    <tr>\n      <th>7</th>\n      <td>8.0</td>\n      <td>7.973379</td>\n    </tr>\n    <tr>\n      <th>10</th>\n      <td>8.0</td>\n      <td>7.425299</td>\n    </tr>\n  </tbody>\n</table>\n</div>"
     },
     "execution_count": 42,
     "metadata": {},
     "output_type": "execute_result"
    }
   ],
   "source": [
    "y_pred=regressor.predict(X_test)\n",
    "df=pd.DataFrame({'Actual':y_test,'Predicted':y_pred})\n",
    "df"
   ],
   "metadata": {
    "collapsed": false,
    "pycharm": {
     "name": "#%%\n"
    }
   }
  },
  {
   "cell_type": "code",
   "execution_count": 43,
   "outputs": [
    {
     "data": {
      "text/plain": "<Figure size 640x480 with 1 Axes>",
      "image/png": "[encoded data removed]"
     },
     "metadata": {},
     "output_type": "display_data"
    }
   ],
   "source": [
    "df.plot(kind='bar')\n",
    "plt.grid(which='major',linestyle='-',linewidth='0.5',color='green')\n",
    "plt.grid(which='minor',linestyle=':',linewidth='0.5',color='black')\n",
    "plt.show()"
   ],
   "metadata": {
    "collapsed": false,
    "pycharm": {
     "name": "#%%\n"
    }
   }
  },
  {
   "cell_type": "code",
   "execution_count": 45,
   "outputs": [
    {
     "name": "stdout",
     "output_type": "stream",
     "text": [
      "Mean Squared Error: 0.32227024950417993\n"
     ]
    }
   ],
   "source": [
    "from sklearn import metrics\n",
    "print('Mean Squared Error:', metrics.mean_squared_error(y_test,y_pred))"
   ],
   "metadata": {
    "collapsed": false,
    "pycharm": {
     "name": "#%%\n"
    }
   }
  },
  {
   "cell_type": "markdown",
   "source": [
    "Задание*\n",
    "Задача: Экспериментально получены N − значений величины Y при\n",
    "различных значениях величины X. Построить полиномы первой и второй\n",
    "степени, аппроксимирующие результаты эксперимента, с применением\n",
    "метода наименьших квадратов. Результаты выводятся в виде таблиц\n",
    "значений и графиков, полученных полиномов."
   ],
   "metadata": {
    "collapsed": false,
    "pycharm": {
     "name": "#%% md\n"
    }
   }
  },
  {
   "cell_type": "code",
   "execution_count": 46,
   "outputs": [
    {
     "name": "stdout",
     "output_type": "stream",
     "text": [
      "-0.4285714285714293 4.380952380952379\n"
     ]
    },
    {
     "data": {
      "text/plain": "<Figure size 640x480 with 1 Axes>",
      "image/png": "[encoded data removed]"
     },
     "metadata": {},
     "output_type": "display_data"
    },
    {
     "name": "stdout",
     "output_type": "stream",
     "text": [
      "[0.  0.2 0.4 0.6 0.8 1. ]\n",
      "[6. 3. 2. 6. 2. 5.]\n",
      "-0.0023516 0.19277 -0.68789\n"
     ]
    },
    {
     "data": {
      "text/plain": "<Figure size 640x480 with 1 Axes>",
      "image/png": "[encoded data removed]"
     },
     "metadata": {},
     "output_type": "display_data"
    }
   ],
   "source": [
    "import numpy as np\n",
    "\n",
    "x = [0.0, 0.2, 0.4, 0.6, 0.8, 1.0]\n",
    "y = [3.0, 6.0, 3.0, 6.0, 4.0, 3.0]\n",
    "new_y = np.array(y)\n",
    "new_x = np.array(x)\n",
    "A = np.vstack([new_x, np.ones(len(new_x))]).T\n",
    "A\n",
    "m, c = np.linalg.lstsq(A, new_y, rcond=None)[0]\n",
    "print(m, c)\n",
    "import numpy as np\n",
    "\n",
    "x = [0.0, 0.2, 0.4, 0.6, 0.8, 1.0]\n",
    "y = [6.0, 3.0, 2.0, 6.0, 2.0, 5.0]\n",
    "new_y = np.array(y)\n",
    "new_x = np.array(x)\n",
    "A = np.vstack([new_x, np.ones(len(new_x))]).T\n",
    "A\n",
    "import matplotlib.pyplot as plt\n",
    "\n",
    "plt.plot(new_x, new_y, 'o', label='Исходные данные', markersize=10)\n",
    "plt.plot(new_x, m * new_x + c, 'r', label='Линейная экстраполяция')\n",
    "plt.legend()\n",
    "plt.show()\n",
    "from numpy import *\n",
    "from numpy.random import *\n",
    "\n",
    "print(new_x)\n",
    "print(new_y)\n",
    "m = vstack((new_x ** 2, new_x, ones(6))).T\n",
    "s = np.linalg.lstsq(m, new_y, rcond=None)[0]\n",
    "s = [-0.0023516, 0.19277, -0.68789]\n",
    "x_prec = linspace(2, 3, 11)\n",
    "plt.plot(new_x, new_y, 'D')\n",
    "plt.plot(x_prec, s[0] * x_prec ** 2 + s[1] * x_prec + s[2], '-', lw=2)\n",
    "plt.grid()\n",
    "print(s[0], s[1], s[2])\n",
    "plt.savefig('параболанов.png')"
   ],
   "metadata": {
    "collapsed": false,
    "pycharm": {
     "name": "#%%\n"
    }
   }
  },
  {
   "cell_type": "code",
   "execution_count": null,
   "outputs": [],
   "source": [],
   "metadata": {
    "collapsed": false,
    "pycharm": {
     "name": "#%%\n"
    }
   }
  }
 ],
 "metadata": {
  "kernelspec": {
   "display_name": "Python 3",
   "language": "python",
   "name": "python3"
  },
  "language_info": {
   "codemirror_mode": {
    "name": "ipython",
    "version": 2
   },
   "file_extension": ".py",
   "mimetype": "text/x-python",
   "name": "python",
   "nbconvert_exporter": "python",
   "pygments_lexer": "ipython2",
   "version": "2.7.6"
  }
 },
 "nbformat": 4,
 "nbformat_minor": 0
}