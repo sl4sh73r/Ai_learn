{
 "cells": [
  {
   "cell_type": "markdown",
   "id": "19eebd50",
   "metadata": {},
   "source": [
    "<h1>Рабочая тетрадь 4. Основы Python</h1>\n",
    "\n",
    "---\n",
    "## Мысливец Леонид Владимирович"
   ]
  },
  {
   "cell_type": "markdown",
   "id": "522dd329",
   "metadata": {},
   "source": [
    "### Линейные регрессионные модели\n",
    "***Линейная регрессия***\n",
    "\n",
    "    Линейная регрессия (Linear regression) – модель зависимости переменной x от одной или нескольких других переменных (факторов, регрессоров, независимых переменных) с линейной функцией зависимости. Линейная регрессия относится к задаче определения «линии наилучшего соответствия» через набор точек данных и стала простым предшественником нелинейных методов, которые используют для обучения нейронных сетей.\n",
    "    Цель линейной регрессии — поиск линии, которая наилучшим образом соответствует этим точкам. Напомним, что общее уравнение для прямой есть 𝑓 (𝑥) = 𝑏 +𝑚⋅𝑥 +, где 𝑚 – наклон линии, а 𝑏 – его сдвиг.\n",
    "\n",
    "\n",
    "\n",
    "***Функция потерь — метод наименьших квадратов***\n",
    "\n",
    "    Функция потерь – это мера количества ошибок, которые наша линейная регрессия делает на наборе данных. Хотя есть разные функции потерь, все они вычисляют расстояние между предсказанным значением 𝑦(х) и его фактическим значением.\n",
    "    Одна очень распространенная функция потерь называется средней квадратичной ошибкой MSE. Чтобы вычислить MSE, мы просто берем все значения ошибок, считаем их квадраты длин и усредняем.\n",
    "\n",
    "\n",
    "\n",
    "***Задача экраполяции***\n",
    "\n",
    "    Допустим у нас есть много экспериментальных точек. Необходимо через них провести кривую, которая как можно ближе проходила к этим точкам. При этом необходимо минимизировать среднюю квадратичную ошибку (MSE).\n",
    "    Для решения данной задачи в Python есть множество библиотек. Самыми распостраненными выступают:\n",
    "```py\n",
    "numpy - numpy.linalg.lstsq\n",
    "scipy - scipy.linalg\n",
    "```\n",
    "(содержит все функции из numpy.linalg плюс часть новых функций, которых нет в numpy.linalg)."
   ]
  },
  {
   "cell_type": "markdown",
   "id": "e028d550",
   "metadata": {},
   "source": [
    "***Пример:*** Проведем прямую 𝑦 = 𝑚𝑥 + 𝑏 через экспериментальные точки."
   ]
  },
  {
   "cell_type": "code",
   "execution_count": 9,
   "id": "b9598f98",
   "metadata": {},
   "outputs": [
    {
     "name": "stdout",
     "output_type": "stream",
     "text": [
      "0.9999999999999997 -0.9499999999999992\n"
     ]
    },
    {
     "data": {
      "image/png": "[encoded data removed]",
      "text/plain": [
       "<Figure size 432x288 with 1 Axes>"
      ]
     },
     "metadata": {
      "needs_background": "light"
     },
     "output_type": "display_data"
    }
   ],
   "source": [
    "import numpy as np\n",
    "def exp1():\n",
    "    x = np.array([0, 1, 2, 3])\n",
    "    y = np.array([-1, 0.2, 0.9, 2.1])\n",
    "    #Перепишем линейное урабнение у = mx + с как у = Xp, где A = [[ × 1 ]] и p = [[m], [с]]\n",
    "    #Построим А по х :\n",
    "    A = np.vstack([x, np. ones(len(x))]).T\n",
    "    A\n",
    "def exp2():\n",
    "    #Используем метод istsq для решения его относительно вектора р.\n",
    "    m, c = np.linalg.lstsq(A, y, rcond = None)[0]\n",
    "    print(m, c)\n",
    "#Построим график полученной прямой и укажем на нем точки.\n",
    "import matplotlib.pyplot as plt\n",
    "def exp3():\n",
    "    plt.plot(x, y, 'o', label='Исходные данные', markersize=10)\n",
    "    plt.plot(x, m*x + c, 'r', label='Линейная экстраполяция')\n",
    "    plt.legend()\n",
    "    plt.show()\n",
    "exp1()\n",
    "exp2()\n",
    "exp3()"
   ]
  },
  {
   "cell_type": "markdown",
   "id": "078085b2",
   "metadata": {},
   "source": [
    "***Пример:*** Пусть 𝑥, 𝑦 – вектора длиной 𝑛 > 3 (точек > 3). Задача заключается в построении эстраполяционного полинома второго порядка (параболы). Таким образом, необходимо найти такие коэффициенты поринома 𝑎, 𝑏, 𝑐 по методу наименьших квадратов. Данные мтогут быть получены в результате измерений. Покажем пример генерации данных случайным образом и загрузки их из файла."
   ]
  },
  {
   "cell_type": "code",
   "execution_count": 12,
   "id": "cc9595d3",
   "metadata": {},
   "outputs": [
    {
     "name": "stdout",
     "output_type": "stream",
     "text": [
      "[-5.44090041 -4.31768812 -3.35645591 -2.22573195 -0.54356441 -0.03421209\n",
      "  0.55447691  1.71136675  2.7967829   3.56075255  5.10872488]\n",
      "[24.74938509]\n"
     ]
    },
    {
     "name": "stderr",
     "output_type": "stream",
     "text": [
      "C:\\Users\\Leo2k20\\AppData\\Local\\Temp\\ipykernel_25864\\2949895205.py:16: DeprecationWarning: string or file could not be read to its end due to unmatched data; this will raise a ValueError in the future.\n",
      "  y = fromfile('y_data.txt', float, sep='\\n')\n"
     ]
    },
    {
     "ename": "LinAlgError",
     "evalue": "Incompatible dimensions",
     "output_type": "error",
     "traceback": [
      "\u001b[1;31m---------------------------------------------------------------------------\u001b[0m",
      "\u001b[1;31mLinAlgError\u001b[0m                               Traceback (most recent call last)",
      "Input \u001b[1;32mIn [12]\u001b[0m, in \u001b[0;36m<cell line: 23>\u001b[1;34m()\u001b[0m\n\u001b[0;32m     21\u001b[0m \u001b[38;5;66;03m# Нахождение коэффициентов функции вида у = ax 2 + bx + с методом наименьших квадратов # задаем вектор т = [x**2, x, E]\u001b[39;00m\n\u001b[0;32m     22\u001b[0m m \u001b[38;5;241m=\u001b[39m vstack((x\u001b[38;5;241m*\u001b[39m\u001b[38;5;241m*\u001b[39m\u001b[38;5;241m2\u001b[39m, x, ones(\u001b[38;5;241m11\u001b[39m)))\u001b[38;5;241m.\u001b[39mT \u001b[38;5;66;03m# находим коэффициенты при составляющих вектора т\u001b[39;00m\n\u001b[1;32m---> 23\u001b[0m s \u001b[38;5;241m=\u001b[39m \u001b[43mnp\u001b[49m\u001b[38;5;241;43m.\u001b[39;49m\u001b[43mlinalg\u001b[49m\u001b[38;5;241;43m.\u001b[39;49m\u001b[43mlstsq\u001b[49m\u001b[43m(\u001b[49m\u001b[43mm\u001b[49m\u001b[43m,\u001b[49m\u001b[43m \u001b[49m\u001b[43my\u001b[49m\u001b[43m,\u001b[49m\u001b[43m \u001b[49m\u001b[43mrcond\u001b[49m\u001b[43m \u001b[49m\u001b[38;5;241;43m=\u001b[39;49m\u001b[43m \u001b[49m\u001b[38;5;28;43;01mNone\u001b[39;49;00m\u001b[43m)\u001b[49m\n\u001b[0;32m     24\u001b[0m \u001b[38;5;66;03m# на отрезке [-5,5]\u001b[39;00m\n\u001b[0;32m     25\u001b[0m x_prec \u001b[38;5;241m=\u001b[39m linspace(\u001b[38;5;241m-\u001b[39m\u001b[38;5;241m5\u001b[39m, \u001b[38;5;241m5\u001b[39m, \u001b[38;5;241m101\u001b[39m)\n",
      "File \u001b[1;32m<__array_function__ internals>:5\u001b[0m, in \u001b[0;36mlstsq\u001b[1;34m(*args, **kwargs)\u001b[0m\n",
      "File \u001b[1;32m~\\anaconda3\\lib\\site-packages\\numpy\\linalg\\linalg.py:2275\u001b[0m, in \u001b[0;36mlstsq\u001b[1;34m(a, b, rcond)\u001b[0m\n\u001b[0;32m   2273\u001b[0m m2, n_rhs \u001b[38;5;241m=\u001b[39m b\u001b[38;5;241m.\u001b[39mshape[\u001b[38;5;241m-\u001b[39m\u001b[38;5;241m2\u001b[39m:]\n\u001b[0;32m   2274\u001b[0m \u001b[38;5;28;01mif\u001b[39;00m m \u001b[38;5;241m!=\u001b[39m m2:\n\u001b[1;32m-> 2275\u001b[0m     \u001b[38;5;28;01mraise\u001b[39;00m LinAlgError(\u001b[38;5;124m'\u001b[39m\u001b[38;5;124mIncompatible dimensions\u001b[39m\u001b[38;5;124m'\u001b[39m)\n\u001b[0;32m   2277\u001b[0m t, result_t \u001b[38;5;241m=\u001b[39m _commonType(a, b)\n\u001b[0;32m   2278\u001b[0m \u001b[38;5;66;03m# FIXME: real_t is unused\u001b[39;00m\n",
      "\u001b[1;31mLinAlgError\u001b[0m: Incompatible dimensions"
     ]
    }
   ],
   "source": [
    "from numpy import *\n",
    "\n",
    "from numpy.random import *\n",
    "#генерируем случайные х и у\n",
    "delta = 1.0\n",
    "x = linspace(-5,5,11)\n",
    "y = x**2+delta*(rand(11)-0.5)\n",
    "\n",
    "x += delta*(rand(11)-0.5)\n",
    "#записывае данные в файл\n",
    "x.tofile('x_data.txt', '\\n')\n",
    "y.tofile('y_data.txt', 'An')\n",
    "# читаем данные из файлов\n",
    "\n",
    "x = fromfile('x_data.txt', float, sep='\\n')\n",
    "y = fromfile('y_data.txt', float, sep='\\n')\n",
    "\n",
    "print(x)\n",
    "print(y)\n",
    "\n",
    "# Нахождение коэффициентов функции вида у = ax 2 + bx + с методом наименьших квадратов # задаем вектор т = [x**2, x, E]\n",
    "m = vstack((x**2, x, ones(11))).T\n",
    "# находим коэффициенты при составляющих вектора т\n",
    "s = np.linalg.lstsq(m, y, rcond = None)[0]\n",
    "# на отрезке [-5,5]\n",
    "x_prec = linspace(-5, 5, 101)\n",
    "# рисуем точки\n",
    "plt.plot(x, y, 'D')\n",
    "# рисуем кривую вида у = ax*2 + bx + с, подставляя из решения коэффициенты s[0], s[1], s[2]\n",
    "plt.plot(x_prec, s[0] * x_prec**2 + s[1] * x_prec+s[2], \"-\", lw=2)\n",
    "plt.grid()\n",
    "plt.savefig('парабола.png')"
   ]
  },
  {
   "cell_type": "code",
   "execution_count": null,
   "id": "5bf66a17",
   "metadata": {},
   "outputs": [],
   "source": []
  }
 ],
 "metadata": {
  "kernelspec": {
   "display_name": "Python 3 (ipykernel)",
   "language": "python",
   "name": "python3"
  },
  "language_info": {
   "codemirror_mode": {
    "name": "ipython",
    "version": 3
   },
   "file_extension": ".py",
   "mimetype": "text/x-python",
   "name": "python",
   "nbconvert_exporter": "python",
   "pygments_lexer": "ipython3",
   "version": "3.9.12"
  }
 },
 "nbformat": 4,
 "nbformat_minor": 5
}
