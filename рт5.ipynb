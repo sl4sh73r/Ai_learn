{
 "cells": [
  {
   "cell_type": "markdown",
   "metadata": {
    "collapsed": true,
    "pycharm": {
     "name": "#%% md\n"
    }
   },
   "source": [
    "Дисциплина «Искусственный интеллект»\n",
    "Рабочая тетрадь № 5\n",
    "Теоретический материал – Деревья принятия решений\n",
    "Деревья решений являются одним из наиболее эффективных\n",
    "инструментов интеллектуального анализа данных и предсказательной\n",
    "аналитики, которые позволяют решать задачи классификации и регрессии.\n",
    "Перед тем как непосредственно перейти к решению задач с\n",
    "использование данного инструмента рассмотрим общее понятие \"дерево\" в\n",
    "информатике и способы задания деревьев в языке Python.\n",
    "Деревья принадлежат к числу основных структур данных,\n",
    "используемых в программировании. Древовидная структура является\n",
    "одним из способов представления иерархической структуры в графическом\n",
    "виде. Такое название она получила потому, что граф выглядит как\n",
    "перевернутое дерево. Корень дерева (корневой узел) находится на самом\n",
    "верху, а листья (потомки) — внизу.\n",
    "Деревья широко применяются в компьютерных технологиях.\n",
    "Примером является файловая система, представляющая собой\n",
    "иерархическую структуру из файлов и каталогов.\n",
    "Схематично дерево и его основные элементы приведены на рисунке\n",
    "ниже.\n",
    "На рисунке изображены родительские отношения (ребра, ветви\n",
    "дерева) между узлами (вершинами) дерева. На верхнем уровне каждый\n",
    "«родитель» указывает на своих «потомков». То есть в этой иерархической\n",
    "структуре вершина всегда «знает» своих потомков.\n",
    "Для того чтобы более точно оперировать структурой Дерево, нужно\n",
    "дать определение некоторым ключевым понятиям:\n",
    "− корневой узел — самый верхний узел дерева, он не имеет\n",
    "предков;\n",
    "− лист, листовой или терминальный узел — конечный узел, то\n",
    "есть не имеющий потомков;\n",
    "− внутренний узел — любой узел дерева, имеющий потомков, то\n",
    "есть не лист.\n",
    "С корневого узла начинается выполнение большинства операций над\n",
    "деревом. Чтобы получить доступ к любому элементу структуры,\n",
    "необходимо, переходя по ветвям, перебирать элементы, начиная с головы\n",
    "— корневого узла. Корневой узел — это своеобразный вход в дерево.\n",
    "Большинство алгоритмов работы с деревом строятся на том, что каждый\n",
    "узел дерева рассматриваются как корневой узел поддерева, «растущего» из\n",
    "этого узла. Такой подход дает возможность зацикливать выполнение\n",
    "операций при прохождении по элементам дерева. Но в связи с тем, что при\n",
    "прохождении по дереву (в отличие от массива) неизвестно сколько шагов\n",
    "будет в этом цикле, используется другой инструмент — рекурсивный вызов.\n",
    "Двоичное (бинарное) дерево — это древовидная структура данных,\n",
    "где каждый узел имеет не более двух детей. Этих детей называют левым (Л)\n",
    "и правым (П) потомком или «сыном». На рисунке выше дерево является\n",
    "двоичный"
   ]
  },
  {
   "cell_type": "markdown",
   "source": [
    "1.1. Теоретический материал – Основы объектно- ориентированного программирования в Python\n",
    "В предыдущих разделах мы рассматривали в основном традиционное программирование на Python, когда вся программа разбивается (или не разбивается) на отдельные модули, содержащие функции. Такое программирование соответствует парадигме структурного программирования. Само структурное программирование оказалось колоссальным шагом в построении программ. Однако еще большим шагом является парадигма объектно-ориентированного программирования. В этом подходе программа состоит из отдельных классов, которые объединяют в себе как переменные, называемые полями класса, так и функции, называемые методами класса.\n",
    "На самом деле мы уже сталкивались с классами, когда создавали объекты для решения задач классификации и регрессии в Scikit-learn. В данном разделе подробнее познакомимся с основами объектно- ориентированного программирования (ООП).\n",
    "Объектно-ориентированное программирование состоит из трех китов: − инкапсуляция;\n",
    "− наследование;\n",
    "− полиморфизм.\n",
    "Рассмотрим на примерах эти понятия. Первое - инкапсуляция - это объединение в одном объекте данных и программного кода таким образом, что для внешней работы внутренняя часть объекта может быть скрыта от пользователя. Инкапсуляция может быть реализована не только с помощью классов, но и с помощью модулей, но классы позволяют сделать\n",
    "   инкапсуляцию естественным путем. Создадим класс в Python. Для этого необходимо определить класс (новый тип данных) и создать объект, называемый экземпляром класса. Мы рекомендуем имена классов начинать с заглавной буквы \"T\", подчеркивая тем самым, что речь идет о типе данных. Делается это так:\n",
    "class TAnimal:\n",
    "name = \"\"\n",
    "def __init__(self, name):\n",
    "self.name = name def say(self):\n",
    "print(self.name)\n",
    "Теперь создадим экземпляр этого класса. Экземпляр класса представляет собой переменную, с которой можно работать обычным образом.\n",
    "Animal = TAnimal(\"Обезьяна\") Animal.say()\n",
    "Рассмотрим синтаксис Python при создании классов. Все начинается с ключевого слова class. Далее в блоке из отступов мы определяем переменные, которые будем называть полями и функции, которые называются методами. Методы определяются, как обычные функции и могут возвращать значения. Единственное отличие состоит в том, что у всех методов есть обязательный первый параметр, который по традиции всегда называем self в котором передается ссылка на экземпляр класса. Поэтому когда внутри класса метод хочет обратиться к своему полю, то необходимо использовать конструкцию self.name. Заметим, что при вызове методов мы первый параметр не задаем.\n",
    "Далее, у каждого класса есть метод, с именем __init__, который называется конструктором класса. Этот метод вызывается в момент создания экземпляра Animal = TAnimal(\"Обезьяна\"). Конструктор может иметь любое количество параметров. Предположим, что теперь нам нужно сделать класс для описания конкретного животного - кошки. Для это мы используем наследование классов, когда можно определять новые классы, как наследники существующих. При этом новый класс будет иметь все поля и методы наследуемого класса. Вот как это делается:\n",
    "class TAnimal:\n",
    "name = \"\"\n",
    "def __init__(self, name):\n",
    "self.name = name def say(self):\n",
    "print(self.name) class TCat(TAnimal):\n",
    "\n",
    "   def may(self): print(\"Мяу!\")\n",
    "Cat = TCat(\"Кошка\") Cat.say()\n",
    "Cat.may()\n",
    "Мы видим, что у наследованного класса сохранился конструктор и метод say. В последнем примере мы выдели, что наследный класс, также как и исходный имеет конструктор, который принимает в качестве параметра - название животного тогда, что в данном случае излишне. Для решения этой проблемы мы воспользуемся объектно-ориентированным механизмом - полиморфизмом. Полиморфизм - это возможность замены методов при наследовании. Сделаем так, чтобы не нужно было передавать в конструкторе название \"Кошка\".\n",
    "class TCat(TAnimal): def __init__(self):\n",
    "super().__init__(\"Кошка\") def may(self):\n",
    "print(\"Мяу!\")\n",
    "Cat = TCat()\n",
    "Cat.say()\n",
    "Cat.may()\n",
    "Результат выполнения этой программы будет аналогичный, но теперь\n",
    "при использовании этого класса нам не нужно передавать в конструкторе никаких параметров. Полиморфное перекрытие методов делается простым объявлением метода (в данном случае конструктора). При этом нельзя можно менять входные параметры. Если в результате написания кода метода возникает необходимость вызвать перекрытый метод, то для этого необходимо использовать функцию super(), которая по сути просто возвращает ссылку на родительский класс. Самое удивительное в полиморфизме, что изменяя метод, он меняется даже когда на него есть ссылки родительского класса. Рассмотрим еще один пример. Пусть у нас есть класс:\n",
    "class TDo:\n",
    "def Operation(self, x, y):\n",
    "return x + y def Run(self):\n",
    "x = int(input(\"Enter x > \"))\n",
    "y = int(input(\"Enter y > \"))\n",
    "z = self.Operation(x, y) print(\"Result = \" + z.__str__())\n",
    "\n",
    "Do = TDo()\n",
    "Do.Run()\n",
    "С помощью полиморфизма заменим функцию Operation на другую в\n",
    "наследном классе:\n",
    "class TDo2(TDo):\n",
    "def Operation(self, x, y):\n",
    "return x * y"
   ],
   "metadata": {
    "collapsed": false,
    "pycharm": {
     "name": "#%% md\n"
    }
   }
  },
  {
   "cell_type": "markdown",
   "source": [
    "1.2.1 Пример\n",
    "Задача:\n",
    "Необходимо разработать виртуальную модель процесса обучения. В\n",
    "программе должны быть объекты-ученики, учитель, кладезь знаний.\n",
    "Потребуется три класса – \"учитель\", \"ученик\", \"данные\". Учитель и\n",
    "ученик во многом похожи, оба – люди. Значит, их классы могут\n",
    "принадлежать одному надклассу \"человек\". Однако в контексте данной\n",
    "задачи у учителя и ученика вряд ли найдутся общие атрибуты. Определим,\n",
    "что должны уметь объекты для решения задачи \"увеличить знания\":\n",
    "• Ученик должен уметь брать информацию и превращать ее в свои\n",
    "знания.\n",
    "• Учитель должен уметь учить группу учеников.\n",
    "• Данные могут представлять собой список знаний. Элементы будут\n",
    "извлекаться по индексу."
   ],
   "metadata": {
    "collapsed": false,
    "pycharm": {
     "name": "#%% md\n"
    }
   }
  },
  {
   "cell_type": "code",
   "source": [
    "class Data:\n",
    "    def ＿init＿(self, *info):    self.info = list(info)\n",
    "    def ＿getitem＿(self, i):\n",
    "        return self.info [i]\n",
    "class Teacher:\n",
    "    def teach(self, info, *pupil):\n",
    "        for i in pupil:\n",
    "            i.take(info)\n",
    "class Pupil:\n",
    "    def ＿init＿(self):\n",
    "        self.knowledge = []\n",
    "    def take(self, info):\n",
    "        self. knowledge.append(info)\n",
    "lesson = Data('class', 'object', 'inheritance', 'polymorphism', 'encapsulation')\n",
    "marIvanna = Teacher()\n",
    "vasy = Pupil()\n",
    "pety = Pupil()\n",
    "marIvanna.teach(lesson[2], vasy, pety)\n",
    "marIvanna.teach(lesson[0], pety)\n",
    "print(vasy. knowledge)\n",
    "print(pety. knowledge)"
   ],
   "metadata": {
    "collapsed": false,
    "pycharm": {
     "name": "#%%\n"
    }
   },
   "execution_count": null,
   "outputs": []
  },
  {
   "cell_type": "markdown",
   "source": [
    "1.2.2 Пример\n",
    "Задача:\n",
    "Напишите программу по следующему описанию. Есть класс \"Воин\". От\n",
    "него создаются два экземпляра-юнита. Каждому устанавливается здоровье в 100 очков. В случайном порядке они бьют друг друга. Тот, кто бьет, здоровья не теряет. У того, кого бьют, оно уменьшается на 20 очков от одного удара. После каждого удара надо выводить сообщение, какой юнит атаковал, и сколько у противника осталось здоровья. Как только у кого-то заканчивается ресурс здоровья, программа завершается сообщением о том, кто одержал победу."
   ],
   "metadata": {
    "collapsed": false,
    "pycharm": {
     "name": "#%% md\n"
    }
   }
  },
  {
   "cell_type": "code",
   "execution_count": null,
   "outputs": [],
   "source": [
    "import random\n",
    "class Warrior:\n",
    "    def ＿init＿(self, health):\n",
    "        self.health = health\n",
    "    def hit(self, target, target1):\n",
    "        if target.health > 0:\n",
    "            target.health -= 20\n",
    "        if target1 == warrior1:\n",
    "            target1 = \"Warrior1\"\n",
    "        if target1 == warrior2:\n",
    "            target1 = \"Warrior2\"\n",
    "        print(target1, \" has attacked\")\n",
    "        print(target.health, \" left\")\n",
    "        if target.health == 0:\n",
    "            print(target1, \" has won\")\n",
    "warrior1 = Warrior(100)\n",
    "warrior2 = Warrior(100)\n",
    "q = int(input(\"Enter 1 to attack. Enter 2 to stop program:\"))\n",
    "while q != 2:\n",
    "    if q == 1:\n",
    "        j = random.randint(1,3)\n",
    "        if j % 2 == 0:\n",
    "            warrior1.hit(warrior2,warrior1)\n",
    "            q = int(input(\"Enter 1 to let some warrior attack:\"))\n",
    "        else:\n",
    "            warrior2.hit(warrior1, warrior2)\n",
    "            q = int(input(\"Enter 1 to let some warrior attack:\"))\n",
    "    else:\n",
    "        print(\"Wrong input.\")\n",
    "        break\n"
   ],
   "metadata": {
    "collapsed": false,
    "pycharm": {
     "name": "#%%\n"
    }
   }
  },
  {
   "cell_type": "markdown",
   "source": [
    "1.2.3 Пример\n",
    "Задача:\n",
    "Создайте\tкласс\tпо\tработе\tс\tдробями.\tВ\tклассе\tдолжна\tбыть реализована следующая функциональность:\n",
    "сложение дробей;\n",
    "вычитание дробей;\n",
    "умножение дробей;\n",
    "деление дробей."
   ],
   "metadata": {
    "collapsed": false,
    "pycharm": {
     "name": "#%% md\n"
    }
   }
  },
  {
   "cell_type": "code",
   "execution_count": null,
   "outputs": [],
   "source": [
    "class Rational:\n",
    "    @staticmethod\n",
    "    def gcd(a,b):\n",
    "        while (b != 0):\n",
    "            (a,b) = (b, a%b)\n",
    "        return a\n",
    "\n",
    "    @staticmethod\n",
    "    def sgn(x):\n",
    "        if x>0:\n",
    "            return 1\n",
    "        elif x<0:\n",
    "            return -1\n",
    "        else:\n",
    "            return 0\n",
    "    def ＿init＿(self,n,d):\n",
    "        if n==0:\n",
    "            self.num=0\n",
    "            self.den=1\n",
    "        else:\n",
    "            z=self.sgn(n)*self.sgn(d)\n",
    "            n=abs(n)\n",
    "            d=abs(d)\n",
    "            k=self.gcd(n, d)\n",
    "            self.num=z*n//k\n",
    "            self.den=d//k\n",
    "    def ＿str＿(self):\n",
    "        if self.num==0:\n",
    "            return \"0\"\n",
    "        else:\n",
    "            return str(self.num)+\"/\"+str(self.den)\n",
    "    def ＿add＿(self,o):\n",
    "        n1=self.num\n",
    "        d1=self. den\n",
    "        if type(o)==int:\n",
    "            n2=0\n",
    "            d2=1\n",
    "        else:\n",
    "            n2=o.num\n",
    "            d2=o.den\n",
    "        n=n1*d2+n2*d1\n",
    "        d=d1*d2\n",
    "        return Rational(n,d)\n",
    "\n",
    "    def ＿radd＿(self,o):\n",
    "        n1=self.num\n",
    "        d1=self.den\n",
    "        if type(o)==int:\n",
    "            n2=0\n",
    "            d2=1\n",
    "        else:\n",
    "            n2=o.num\n",
    "            d2=o.den\n",
    "        n=n1*d2+n2*d1\n",
    "        d=d1*d2\n",
    "        return Rational(n, d)\n",
    "    def ＿sub＿(self,o):\n",
    "        n1=self.num\n",
    "        d1=self. den\n",
    "        n2=o.num\n",
    "        d2=o.den\n",
    "        n=n1*d2-n2*d1\n",
    "        d=d1*d2\n",
    "        return Rational(n, d)\n",
    "    def ＿mul＿(self,o):\n",
    "        n1=self.num\n",
    "        d1=self.den\n",
    "        n2=o.num\n",
    "        d2=o.den\n",
    "        n=n1*n2\n",
    "        d=d1*d2\n",
    "        return Rational(n, d)\n",
    "    def ＿floordiv＿(self,o):\n",
    "        n1=self.num\n",
    "        d1=self.den\n",
    "        n2=o.num\n",
    "        d2=o.den\n",
    "        n=n1*d2\n",
    "        d=d1*n2\n",
    "        return Rational(n, d)\n",
    "d1=Rational(1,2)\n",
    "d2=Rational(1,3)\n",
    "d3=d1+d2\n",
    "print(d3)\n",
    "d4=d1-d2\n",
    "print(d4)\n",
    "d5=d1*d2\n",
    "print(d5)\n",
    "d6=d1*d2\n",
    "print(d6)\n",
    "d7=d1//d2\n",
    "print(d7)\n",
    "d8=6+d1\n",
    "print(d8)"
   ],
   "metadata": {
    "collapsed": false,
    "pycharm": {
     "name": "#%%\n"
    }
   }
  },
  {
   "cell_type": "markdown",
   "source": [
    "Задание:\n",
    "Создайте класс по работе с тригонометрическими функциями. В классе должны быть реализованы функции вычисления:\n",
    "− косинуса;\n",
    "− синуса;\n",
    "− тангенса;\n",
    "− арксинуса;\n",
    "− арккосинуса;\n",
    "− арктангенса;\n",
    "− перевода из градусов в радианы."
   ],
   "metadata": {
    "collapsed": false,
    "pycharm": {
     "name": "#%% md\n"
    }
   }
  },
  {
   "cell_type": "code",
   "execution_count": null,
   "outputs": [],
   "source": [
    "import math as m\n",
    "class Trigonometric:\n",
    "    def __init__(self,x):\n",
    "        self.x = x\n",
    "    def cos(self,x):\n",
    "        return m.cos(x)\n",
    "    def sin(self,x):\n",
    "        m.sin(x)\n",
    "    def tan(self,x):\n",
    "        return m.sin(x)/m.cos(x)\n",
    "    def acos(self,x):\n",
    "        m.acos(x)\n",
    "    def asin(self,x):\n",
    "        m.atan(x)\n",
    "    def cos(self,x):\n",
    "        m.cos(x)\n",
    "    def degree_to_rad(self,x):\n",
    "        return m.radians(x)"
   ],
   "metadata": {
    "collapsed": false,
    "pycharm": {
     "name": "#%%\n"
    }
   }
  },
  {
   "cell_type": "markdown",
   "source": [
    "1.2. Теоретический материал – Реализация деревьев в Python\n",
    "Любое представление графов, естественно, можно использовать для представления деревьев, потому что деревья — это особый вид графов. Однако, деревья играют свою большую роль в алгоритмах, и для них\n",
    "разработано много соответствующих структур и методов. Большинство алгоритмов на деревьях (например, поиск по деревьям) можно рассматривать в терминах теории графов, но специальные структуры данных делают их проще в реализации.\n",
    "Проще всего описать представление дерева с корнем, в котором ребра спускаются вниз от корня. Такие деревья часто отображают иерархическое ветвление данных, где корень отображает все объекты (которые, возможно, хранятся в листьях), а каждый внутренний узел показывает объекты, содержащиеся в дереве, корень которого — этот узел. Это описание можно использовать, представив каждое поддерево списком, содержащим все его поддеревья-потомки. Рассмотрим простое дерево, показанное на рисунке ниже.\n",
    "\n",
    "Мы можем представить это дерево как список списков:\n",
    "T = [[\"a\", \"b\"], [\"c\"], [\"d\", [\"e\", \"f\"]]]\n",
    "print(T[0][1])\n",
    "print(T[2][1][0])\n",
    "Каждый список в сущности является списком потомков каждого из\n",
    "внутренних узлов. Во втором примере мы обращаемся к третьему потомку корня, затем ко второму его потомку и в конце концов — к первому потомку предыдущего узла (этот путь отмечен на рисунке). В ряде случаев возможно заранее определить максимальное число потомков каждого узла. (Например, каждый узел бинарного дерева может иметь до двух потомков). Поэтому можно использовать другие представления, скажем, объекты с отдельным атрибутом для каждого из потомков как в листинге ниже"
   ],
   "metadata": {
    "collapsed": false,
    "pycharm": {
     "name": "#%% md\n"
    }
   }
  },
  {
   "cell_type": "markdown",
   "source": [
    "1.2.1 Пример\n",
    "Задача:\n",
    "Определите класс бинарного дерева и задайте его объекты с отдельным атрибутом для каждого из потомков."
   ],
   "metadata": {
    "collapsed": false,
    "pycharm": {
     "name": "#%% md\n"
    }
   }
  },
  {
   "cell_type": "code",
   "execution_count": null,
   "outputs": [],
   "source": [
    "class Tree:\n",
    "    def ＿init＿(self, left, right):\n",
    "        self.left = left\n",
    "        self.right = right\n",
    "t = Tree(Tree(\"a\", \"b\"), Tree(\"c\", \"d\"))\n",
    "t.right.left"
   ],
   "metadata": {
    "collapsed": false,
    "pycharm": {
     "name": "#%%\n"
    }
   }
  },
  {
   "cell_type": "markdown",
   "source": [
    "1.2.2 Пример\n",
    "\n",
    "Для обозначения отсутствующих потомков можно использовать None (в случае если у узла только один потомок). Само собой, можно комбинировать разные методы (например, использовать списки или множества потомков для каждого узла).\n",
    "Распространенный способ реализации деревьев, особенно на языках, не имеющих встроенной поддержки списков, это так называемое представление «первый потомок, следующий брат». В нем каждый узел имеет два «указателя» или атрибута, указывающих на другие узлы, как в\n",
    "бинарном дереве. Однако, первый из этих атрибутов ссылается на первого потомка узла, а второй — на его следующего брата (т.е. узел, имеющий того же родителя, но находящийся правее, — прим. перев). Иными словами, каждый узел дерева имеет указатель на связанный список его потомков, а каждый из этих потомков ссылается на свой собственный аналогичный список. Таким образом, небольшая модификация бинарного дерева даст нам многопутевое дерево, показанное в листинге ниже."
   ],
   "metadata": {
    "collapsed": false,
    "pycharm": {
     "name": "#%% md\n"
    }
   }
  },
  {
   "cell_type": "code",
   "execution_count": null,
   "outputs": [],
   "source": [
    "class Tree:\n",
    "    def ＿init＿(self, kids, next=None):\n",
    "        self.kids = self.val = kids\n",
    "        self.next = next\n",
    "\n",
    "t = Tree(Tree(\"a\", Tree(\"b\", Tree(\"c\", Tree(\"d\")))))\n",
    "t.kids.next.next.val"
   ],
   "metadata": {
    "collapsed": false,
    "pycharm": {
     "name": "#%%\n"
    }
   }
  },
  {
   "cell_type": "markdown",
   "source": [
    "Задание:\n",
    "Представьте дерево показанное на рисунке с использованием списка из списков. Выведите на печать корень дерева, а также его левое и правое поддеревья."
   ],
   "metadata": {
    "collapsed": false,
    "pycharm": {
     "name": "#%% md\n"
    }
   }
  },
  {
   "cell_type": "code",
   "execution_count": 8,
   "outputs": [
    {
     "name": "stdout",
     "output_type": "stream",
     "text": [
      "[[[0, 1, 2, 3, 4, 5, 6, 7, 8, 9], [0, 1, 2, 3, 4, 5, 6, 7, 8, 9]], [[0, 1, 2, 3, 4, 5, 6, 7, 8, 9]]]\n"
     ]
    }
   ],
   "source": [
    "a=[]\n",
    "b=[]\n",
    "c=[]\n",
    "d=[]\n",
    "e=[]\n",
    "f = []\n",
    "for x in range(10):\n",
    "    d.append(x)\n",
    "    e.append(x)\n",
    "    f.append(x)\n",
    "b.append(d)\n",
    "b.append(e)\n",
    "c.append(f)\n",
    "a.append(b)\n",
    "a.append(c)\n",
    "print(a)"
   ],
   "metadata": {
    "collapsed": false,
    "pycharm": {
     "name": "#%%\n"
    }
   }
  },
  {
   "cell_type": "markdown",
   "source": [
    "Задание:\n",
    "Дан класс, описывающий бинарное дерево.\n",
    "class Tree:\n",
    "    def __init__(self, data):\n",
    "        self.left = None\n",
    "        self.right = None self.data = data\n",
    "    def PrintTree(self):\n",
    "        print(self.data)\n",
    "Реализуйте в классе функцию для вставки нового элемента в дерево по следующим правилам:\n",
    "• Левое поддерево узла содержит только узлы со значениями меньше, чем значение в узле.\n",
    "• Правое поддерево узла содержит только узлы со значениями меньше, чем значение в узле.\n",
    "• Каждое из левого и правого поддеревьев также должно быть бинарным деревом поиска.\n",
    "• Не должно быть повторяющихся узлов.\n",
    "Метод вставки сравнивает значение узла с родительским узлом и решает куда доваить элемент (в левое или правое поддерево). Перепишите, метод PrintTree для печати полной версии дерева."
   ],
   "metadata": {
    "collapsed": false
   }
  },
  {
   "cell_type": "code",
   "execution_count": null,
   "outputs": [],
   "source": [
    "class Node:\n",
    "    def __init__(self, val):\n",
    "        self.l = None\n",
    "        self.r = None\n",
    "        self.v = val\n",
    "\n",
    "class Tree:\n",
    "    def __init__(self):\n",
    "        self.root = None\n",
    "\n",
    "    def add(self, val):\n",
    "        if self.root is None:\n",
    "            self.root = Node(val)\n",
    "        else:\n",
    "            self._add(val, self.root)\n",
    "\n",
    "    def _add(self, val, node):\n",
    "        if val < node.v:\n",
    "            if node.l is not None:\n",
    "                self._add(val, node.l)\n",
    "            else:\n",
    "                node.l = Node(val)\n",
    "        else:\n",
    "            if node.r is not None:\n",
    "                self._add(val, node.r)\n",
    "            else:\n",
    "                node.r = Node(val)\n",
    "\n",
    "    def find(self, val):\n",
    "        if self.root is not None:\n",
    "            return self._find(val, self.root)\n",
    "        else:\n",
    "            return None\n",
    "\n",
    "    def _find(self, val, node):\n",
    "        if val == node.v:\n",
    "            return node\n",
    "        elif (val < node.v and node.l is not None):\n",
    "            return self._find(val, node.l)\n",
    "        elif (val > node.v and node.r is not None):\n",
    "            return self._find(val, node.r)\n",
    "\n",
    "    def printTree(self):\n",
    "        if self.root is not None:\n",
    "            self._printTree(self.root)\n",
    "\n",
    "    def _printTree(self, node):\n",
    "        if node is not None:\n",
    "            self._printTree(node.l)\n",
    "            print(str(node.v) + ' ')\n",
    "            self._printTree(node.r)"
   ],
   "metadata": {
    "collapsed": false,
    "pycharm": {
     "name": "#%%\n"
    }
   }
  },
  {
   "cell_type": "markdown",
   "source": [
    "1.3. Теоретический материал – Деревья решений\n",
    "Дерево решений – это один из наиболее часто и широко используемых алгоритмов контролируемого машинного обучения, который может выполнять как регрессионные, так и классификационные задачи.\n",
    "Использование деревьев решений для прогнозного анализа имеет ряд преимуществ:\n",
    "1. Деревья решений могут быть использованы для прогнозирования как непрерывных, так и дискретных значений, т. е. они хорошо работают как для задач регрессии, так и для задач классификации.\n",
    "2. Они требуют относительно меньших усилий для обучения алгоритма.\n",
    "3. Они могут быть использованы для классификации нелинейно разделимых данных.\n",
    "4. Они очень быстры и эффективны по сравнению с KNN и другими алгоритмами классификации.\n",
    "Решим модельные примеры классификации и регрессии, разобранные в предыдущих раочих тетрадях, но с использованием деревьев принятия решений."
   ],
   "metadata": {
    "collapsed": false,
    "pycharm": {
     "name": "#%% md\n"
    }
   }
  },
  {
   "cell_type": "markdown",
   "source": [
    "1.3.1 Пример\n",
    "Задача:\n",
    "Построим дерево решений для задачи классификации, для этого, построим границу решения для каждого класса. В качестве данных будем\n",
    "использовать уже знакомый нам и встроенный в библиотеку sklearn набор данных ирисов Фишера. Импортируем библиотеки, набор данных и посмотрим его характеристики."
   ],
   "metadata": {
    "collapsed": false,
    "pycharm": {
     "name": "#%% md\n"
    }
   }
  },
  {
   "cell_type": "code",
   "execution_count": null,
   "outputs": [],
   "source": [
    "import pandas as pd\n",
    "import numpy as np\n",
    "import seaborn as sns\n",
    "import matplotlib.pyplot as plt\n",
    "dataset = sns.load_dataset('iris')\n",
    "dataset\n",
    "dataset.shape\n",
    "dataset.head()"
   ],
   "metadata": {
    "collapsed": false,
    "pycharm": {
     "name": "#%%\n"
    }
   }
  },
  {
   "cell_type": "markdown",
   "source": [
    "Далее, разделим наши данные на атрибуты и метки, а затем выделим в общей совокупности полученных данных обучающие и тестовые наборы. Таким образом, мы можем обучить наш алгоритм на одном наборе данных, а затем протестировать его на совершенно на другом наборе, который алгоритм еще не видел. Это дает вам более точное представление о том, как на самом деле будет работать ваш обученный алгоритм."
   ],
   "metadata": {
    "collapsed": false,
    "pycharm": {
     "name": "#%% md\n"
    }
   }
  },
  {
   "cell_type": "code",
   "execution_count": null,
   "outputs": [],
   "source": [
    "from sklearn.model_selection import train_test_split\n",
    "X_train, X_test, y_train, y_test = train_test_split(\n",
    "    dataset.iloc[:, :-1],\n",
    "    dataset.iloc[:, -1],\n",
    "    test_size = 0.20\n",
    ")\n",
    "X_train.shape, X_test.shape,y_train.shape, y_test.shape\n",
    "X_train.head()\n",
    "y_train. head()\n",
    "\n",
    "from sklearn.tree import DecisionTreeClassifier\n",
    "classifier = DecisionTreeClassifier()\n",
    "classifier.fit(X_train, y_train)\n",
    "#построим делево решений\n",
    "from sklearn import tree\n",
    "tree.plot_tree(classifier)\n"
   ],
   "metadata": {
    "collapsed": false,
    "pycharm": {
     "name": "#%%\n"
    }
   }
  },
  {
   "cell_type": "markdown",
   "source": [
    "Теперь, когда наш классификатор обучен, давайте сделаем прогнозы по тестовым данным. Для составления прогнозов используется метод predict класса Decision Tree Classifier. Взгляните на следующий код для использования."
   ],
   "metadata": {
    "collapsed": false
   }
  },
  {
   "cell_type": "code",
   "execution_count": null,
   "outputs": [],
   "source": [
    "y_pred = classifier.predict(X_test)\n",
    "y_pred"
   ],
   "metadata": {
    "collapsed": false,
    "pycharm": {
     "name": "#%%\n"
    }
   }
  },
  {
   "cell_type": "markdown",
   "source": [
    "На данный момент мы обучили наш алгоритм и сделали некоторые прогнозы. Теперь посмотрим, насколько точен наш алгоритм. Для задач классификации обычно используются такие метрики, как матрица путаницы, точность. Библиотека Scikit-Learn metrics содержит методы classification_report и confusion_matrix, которые могут быть использованы для расчета этих метрик."
   ],
   "metadata": {
    "collapsed": false,
    "pycharm": {
     "name": "#%% md\n"
    }
   }
  },
  {
   "cell_type": "code",
   "execution_count": null,
   "outputs": [],
   "source": [
    "from sklearn.metrics import classification_report, confusion_matrix\n",
    "print(confusion_matrix(y_test, y_pred))\n",
    "print(classification_report(y_test, y_pred))"
   ],
   "metadata": {
    "collapsed": false,
    "pycharm": {
     "name": "#%%\n"
    }
   }
  },
  {
   "cell_type": "markdown",
   "source": [
    "Из матрицы оценок алгоритма вы можете видеть, что из 30 тестовых экземпляров наш алгоритм неправильно классифицировал только 3. Это\n",
    "приблизительно 91 % точности."
   ],
   "metadata": {
    "collapsed": false,
    "pycharm": {
     "name": "#%% md\n"
    }
   }
  },
  {
   "cell_type": "markdown",
   "source": [
    "Задание\n",
    "Задача:\n",
    "Постройте\tклассификатор\tна\tоснове\tдерева\tпринятия\tрешений следующего датасета:"
   ],
   "metadata": {
    "collapsed": false,
    "pycharm": {
     "name": "#%% md\n"
    }
   }
  },
  {
   "cell_type": "code",
   "execution_count": 4,
   "outputs": [
    {
     "name": "stdout",
     "output_type": "stream",
     "text": [
      "[[3 0]\n",
      " [0 3]]\n",
      "              precision    recall  f1-score   support\n",
      "\n",
      "           0       1.00      1.00      1.00         3\n",
      "           1       1.00      1.00      1.00         3\n",
      "\n",
      "    accuracy                           1.00         6\n",
      "   macro avg       1.00      1.00      1.00         6\n",
      "weighted avg       1.00      1.00      1.00         6\n",
      "\n"
     ]
    },
    {
     "data": {
      "text/plain": "<Figure size 640x480 with 1 Axes>",
      "image/png": "[encoded data removed]"
     },
     "metadata": {},
     "output_type": "display_data"
    }
   ],
   "source": [
    "# данные\n",
    "import numpy as np\n",
    "from sklearn.tree import DecisionTreeClassifier\n",
    "from sklearn.metrics import classification_report, confusion_matrix\n",
    "from sklearn import tree\n",
    "\n",
    "X = np.array([[-1, -1], [-2, -1], [-3, -2], [1, 1], [2, 1], [3, 2]])\n",
    "target = [0, 0, 0, 1, 1, 1]\n",
    "\n",
    "X.shape\n",
    "\n",
    "classifier = DecisionTreeClassifier()\n",
    "classifier.fit(X,target)\n",
    "\n",
    "tree.plot_tree(classifier)\n",
    "\n",
    "y_pred = classifier.predict(X)\n",
    "\n",
    "print(confusion_matrix(y_pred,target))\n",
    "print(classification_report(y_pred,target))"
   ],
   "metadata": {
    "collapsed": false,
    "pycharm": {
     "name": "#%%\n"
    }
   }
  },
  {
   "cell_type": "markdown",
   "source": [
    "\n",
    "1.4. Теоретический материал – Дерево решений для регрессии\n",
    "Дерево решений для регрессии\n",
    "Процесс решения регрессионной задачи с деревом решений с помощью Scikit Learn очень похож на процесс классификации. Однако для регрессии мы используем класс DecisionTreeRegressor древовидной библиотеки. Кроме того, оценочные показатели регрессии отличаются от показателей классификации. В остальном процесс почти такой же.\n",
    "\n",
    "Построим регрессию с использованием дерева решений в Python и библиотеки scikit-learn. В качестве исходного набора данных будем использовать зависимость заработной платы от опыта работы из предыдущей тетради:\n",
    "https://raw.githubusercontent.com/AnnaShestova/salary-years-simple- linear-regression/master/Salary_Data.csv"
   ],
   "metadata": {
    "collapsed": false,
    "pycharm": {
     "name": "#%% md\n"
    }
   }
  },
  {
   "cell_type": "markdown",
   "source": [
    "1.4.1 Пример\n",
    "Задача:\n",
    "  Постойте регрессию с использованием дерева решений, реализованного в Python."
   ],
   "metadata": {
    "collapsed": false,
    "pycharm": {
     "name": "#%% md\n"
    }
   }
  },
  {
   "cell_type": "code",
   "execution_count": null,
   "outputs": [],
   "source": [
    "import pandas as pd\n",
    "import numpy as np\n",
    "import matplotlib.pyplot as plt\n",
    "url = r' https://raw.githubusercontent.com/AnnaShestova/salary-years-simple-linear-regression/master/Salary_Data.csv'\n",
    "dataset = pd.read_csv(url)\n",
    "dataset. head()\n",
    "#Исследуем набор данных\n",
    "print(dataset.shape)\n",
    "dataset.describe()\n",
    "# Нарисуем точечную диаграмму\n",
    "plt.scatter (dataset['YearsExperience'], dataset['Salary'], color = 'b', label = \"Заработная плата\")\n",
    "plt.xlabel(\"Опыт(лет)\")\n",
    "plt.ylabel(\"Заработная плата\")\n",
    "plt.show()\n",
    "from sklearn.tree import DecisionTreeRegressor\n",
    "X = dataset.iloc[:, :-1].values\n",
    "y = dataset.iloc[:, 1].values\n",
    "print(X)\n",
    "print(y)\n",
    "# Теперь, когда у нас есть атрибуты и метки, необходимо разделить их на а обучающий и тестовый наборы.\n",
    "# Приведенный фрагмент разделяет 80% данных на обучающий набор, а 20% данных - на набор тестов\n",
    "X_train, X_test, y_train, y_test = train_test_split(X, y, test_size = 0.2, random_state = 0)\n",
    "# далее можно обучить алгоритм линейной регрессии\n",
    "# необходимо импортировать класс LinearRegression, создать его экземпляр и вызвать метод fit()\n",
    "regressor = DecisionTreeRegressor()\n",
    "regressor.fit(X_train, y_train)"
   ],
   "metadata": {
    "collapsed": false,
    "pycharm": {
     "name": "#%%\n"
    }
   }
  },
  {
   "cell_type": "code",
   "execution_count": null,
   "outputs": [],
   "source": [
    "from sklearn import tree\n",
    "tree.plot_tree(regressor)"
   ],
   "metadata": {
    "collapsed": false,
    "pycharm": {
     "name": "#%%\n"
    }
   }
  },
  {
   "cell_type": "code",
   "execution_count": null,
   "outputs": [],
   "source": [
    "#Построим прогноз:\n",
    "y_pred = regressor.predict(X_test)\n",
    "y_pred\n",
    "#Теперь сравним некоторые из наших прогнозируемых значений с фактическими значениями:"
   ],
   "metadata": {
    "collapsed": false,
    "pycharm": {
     "name": "#%%\n"
    }
   }
  },
  {
   "cell_type": "code",
   "execution_count": null,
   "outputs": [],
   "source": [
    "df=pd.DataFrame({'Actual':y_test, 'Predicted':y_pred})\n",
    "df.head()"
   ],
   "metadata": {
    "collapsed": false,
    "pycharm": {
     "name": "#%%\n"
    }
   }
  },
  {
   "cell_type": "code",
   "execution_count": null,
   "outputs": [],
   "source": [
    "#Расчитаем среднюю абсолютную и среднеквадратичную ошибку регрессии:\n",
    "from sklearn import metrics\n",
    "print('Mean Squared Error:', metrics.mean_squared_error(y_test, y_pred))\n",
    "print('Mean Absolute Error:', metrics.mean_absolute_error(y_test, y_pred))\n",
    "metrics.mean_absolute_error(y_test, y_pred) / np.average(y) * 100"
   ],
   "metadata": {
    "collapsed": false,
    "pycharm": {
     "name": "#%%\n"
    }
   }
  },
  {
   "cell_type": "markdown",
   "source": [
    "Задание\n",
    "Задача:\n",
    "\tЗадание. Постройте модель регрессии для данных из предыдущей рабочей тетради.Для\tпримера\tможно\tвзять\tпотребления\tгаза\t(в\tмиллионах галлонов) в 48 штатах США или набор данных о качестве красного вина: https://raw.githubusercontent.com/likarajo/petrol_consumption/master/data/pet rol_consumption.csv https://raw.githubusercontent.com/aniruddhachoudhury/Red-Wine- Quality/master/winequality-red.csv\n",
    "Постройте прогноз. Оцените точность модели."
   ],
   "metadata": {
    "collapsed": false,
    "pycharm": {
     "name": "#%% md\n"
    }
   }
  },
  {
   "cell_type": "code",
   "execution_count": 5,
   "outputs": [
    {
     "name": "stdout",
     "output_type": "stream",
     "text": [
      "(48, 5)\n"
     ]
    },
    {
     "data": {
      "text/plain": "       Petrol_tax  Average_income  Paved_Highways  \\\ncount   48.000000       48.000000       48.000000   \nmean     7.668333     4241.833333     5565.416667   \nstd      0.950770      573.623768     3491.507166   \nmin      5.000000     3063.000000      431.000000   \n25%      7.000000     3739.000000     3110.250000   \n50%      7.500000     4298.000000     4735.500000   \n75%      8.125000     4578.750000     7156.000000   \nmax     10.000000     5342.000000    17782.000000   \n\n       Population_Driver_licence(%)  Petrol_Consumption  \ncount                     48.000000           48.000000  \nmean                       0.570333          576.770833  \nstd                        0.055470          111.885816  \nmin                        0.451000          344.000000  \n25%                        0.529750          509.500000  \n50%                        0.564500          568.500000  \n75%                        0.595250          632.750000  \nmax                        0.724000          968.000000  ",
      "text/html": "<div>\n<style scoped>\n    .dataframe tbody tr th:only-of-type {\n        vertical-align: middle;\n    }\n\n    .dataframe tbody tr th {\n        vertical-align: top;\n    }\n\n    .dataframe thead th {\n        text-align: right;\n    }\n</style>\n<table border=\"1\" class=\"dataframe\">\n  <thead>\n    <tr style=\"text-align: right;\">\n      <th></th>\n      <th>Petrol_tax</th>\n      <th>Average_income</th>\n      <th>Paved_Highways</th>\n      <th>Population_Driver_licence(%)</th>\n      <th>Petrol_Consumption</th>\n    </tr>\n  </thead>\n  <tbody>\n    <tr>\n      <th>count</th>\n      <td>48.000000</td>\n      <td>48.000000</td>\n      <td>48.000000</td>\n      <td>48.000000</td>\n      <td>48.000000</td>\n    </tr>\n    <tr>\n      <th>mean</th>\n      <td>7.668333</td>\n      <td>4241.833333</td>\n      <td>5565.416667</td>\n      <td>0.570333</td>\n      <td>576.770833</td>\n    </tr>\n    <tr>\n      <th>std</th>\n      <td>0.950770</td>\n      <td>573.623768</td>\n      <td>3491.507166</td>\n      <td>0.055470</td>\n      <td>111.885816</td>\n    </tr>\n    <tr>\n      <th>min</th>\n      <td>5.000000</td>\n      <td>3063.000000</td>\n      <td>431.000000</td>\n      <td>0.451000</td>\n      <td>344.000000</td>\n    </tr>\n    <tr>\n      <th>25%</th>\n      <td>7.000000</td>\n      <td>3739.000000</td>\n      <td>3110.250000</td>\n      <td>0.529750</td>\n      <td>509.500000</td>\n    </tr>\n    <tr>\n      <th>50%</th>\n      <td>7.500000</td>\n      <td>4298.000000</td>\n      <td>4735.500000</td>\n      <td>0.564500</td>\n      <td>568.500000</td>\n    </tr>\n    <tr>\n      <th>75%</th>\n      <td>8.125000</td>\n      <td>4578.750000</td>\n      <td>7156.000000</td>\n      <td>0.595250</td>\n      <td>632.750000</td>\n    </tr>\n    <tr>\n      <th>max</th>\n      <td>10.000000</td>\n      <td>5342.000000</td>\n      <td>17782.000000</td>\n      <td>0.724000</td>\n      <td>968.000000</td>\n    </tr>\n  </tbody>\n</table>\n</div>"
     },
     "execution_count": 5,
     "metadata": {},
     "output_type": "execute_result"
    }
   ],
   "source": [
    "import pandas as pd\n",
    "\n",
    "url='https://raw.githubusercontent.com/likarajo/petrol_consumption/master/data/petrol_consumption.csv'\n",
    "dataframe=pd.read_csv(url)\n",
    "dataframe.head()\n",
    "print(dataframe.shape)\n",
    "dataframe.describe()"
   ],
   "metadata": {
    "collapsed": false,
    "pycharm": {
     "name": "#%%\n"
    }
   }
  },
  {
   "cell_type": "code",
   "execution_count": 7,
   "outputs": [
    {
     "ename": "AttributeError",
     "evalue": "module 'matplotlib' has no attribute 'xlabel'",
     "output_type": "error",
     "traceback": [
      "\u001B[1;31m---------------------------------------------------------------------------\u001B[0m",
      "\u001B[1;31mAttributeError\u001B[0m                            Traceback (most recent call last)",
      "Cell \u001B[1;32mIn [7], line 3\u001B[0m\n\u001B[0;32m      1\u001B[0m \u001B[38;5;28;01mimport\u001B[39;00m \u001B[38;5;21;01mmatplotlib\u001B[39;00m \u001B[38;5;28;01mas\u001B[39;00m \u001B[38;5;21;01mplt\u001B[39;00m\n\u001B[0;32m      2\u001B[0m dataframe\u001B[38;5;241m.\u001B[39mplot(x\u001B[38;5;241m=\u001B[39m\u001B[38;5;124m\"\u001B[39m\u001B[38;5;124mPetrol_tax\u001B[39m\u001B[38;5;124m\"\u001B[39m,y\u001B[38;5;241m=\u001B[39m[\u001B[38;5;124m'\u001B[39m\u001B[38;5;124mPaved_Highways\u001B[39m\u001B[38;5;124m'\u001B[39m,\u001B[38;5;124m'\u001B[39m\u001B[38;5;124mPetrol_Consumption\u001B[39m\u001B[38;5;124m'\u001B[39m,\u001B[38;5;124m'\u001B[39m\u001B[38;5;124mPopulation_Driver_licence(\u001B[39m\u001B[38;5;124m%\u001B[39m\u001B[38;5;124m)\u001B[39m\u001B[38;5;124m'\u001B[39m],kind\u001B[38;5;241m=\u001B[39m\u001B[38;5;124m\"\u001B[39m\u001B[38;5;124mbar\u001B[39m\u001B[38;5;124m\"\u001B[39m)\n\u001B[1;32m----> 3\u001B[0m \u001B[43mplt\u001B[49m\u001B[38;5;241;43m.\u001B[39;49m\u001B[43mxlabel\u001B[49m(\u001B[38;5;124m\"\u001B[39m\u001B[38;5;124mШтаты\u001B[39m\u001B[38;5;124m\"\u001B[39m)\n\u001B[0;32m      4\u001B[0m plt\u001B[38;5;241m.\u001B[39mylabel(\u001B[38;5;124m\"\u001B[39m\u001B[38;5;124mПотребление бензина\u001B[39m\u001B[38;5;124m\"\u001B[39m)\n\u001B[0;32m      5\u001B[0m plt\u001B[38;5;241m.\u001B[39mshow()\n",
      "File \u001B[1;32mc:\\users\\иван\\pycharmprojects\\pythonproject3\\venv\\lib\\site-packages\\matplotlib\\_api\\__init__.py:222\u001B[0m, in \u001B[0;36mcaching_module_getattr.<locals>.__getattr__\u001B[1;34m(name)\u001B[0m\n\u001B[0;32m    220\u001B[0m \u001B[38;5;28;01mif\u001B[39;00m name \u001B[38;5;129;01min\u001B[39;00m props:\n\u001B[0;32m    221\u001B[0m     \u001B[38;5;28;01mreturn\u001B[39;00m props[name]\u001B[38;5;241m.\u001B[39m\u001B[38;5;21m__get__\u001B[39m(instance)\n\u001B[1;32m--> 222\u001B[0m \u001B[38;5;28;01mraise\u001B[39;00m \u001B[38;5;167;01mAttributeError\u001B[39;00m(\n\u001B[0;32m    223\u001B[0m     \u001B[38;5;124mf\u001B[39m\u001B[38;5;124m\"\u001B[39m\u001B[38;5;124mmodule \u001B[39m\u001B[38;5;132;01m{\u001B[39;00m\u001B[38;5;28mcls\u001B[39m\u001B[38;5;241m.\u001B[39m\u001B[38;5;18m__module__\u001B[39m\u001B[38;5;132;01m!r}\u001B[39;00m\u001B[38;5;124m has no attribute \u001B[39m\u001B[38;5;132;01m{\u001B[39;00mname\u001B[38;5;132;01m!r}\u001B[39;00m\u001B[38;5;124m\"\u001B[39m)\n",
      "\u001B[1;31mAttributeError\u001B[0m: module 'matplotlib' has no attribute 'xlabel'"
     ]
    },
    {
     "data": {
      "text/plain": "<Figure size 640x480 with 1 Axes>",
      "image/png": "[encoded data removed]"
     },
     "metadata": {},
     "output_type": "display_data"
    }
   ],
   "source": [
    "import matplotlib as plt\n",
    "dataframe.plot(x=\"Petrol_tax\",y=['Paved_Highways','Petrol_Consumption','Population_Driver_licence(%)'],kind=\"bar\")\n",
    "plt.xlabel(\"Штаты\")\n",
    "plt.ylabel(\"Потребление бензина\")\n",
    "plt.show()"
   ],
   "metadata": {
    "collapsed": false,
    "pycharm": {
     "name": "#%%\n"
    }
   }
  },
  {
   "cell_type": "code",
   "execution_count": 8,
   "outputs": [
    {
     "name": "stdout",
     "output_type": "stream",
     "text": [
      "    Average_income  Population_Driver_licence(%)  Petrol_Consumption\n",
      "0             3571                         0.525                 541\n",
      "1             4092                         0.572                 524\n",
      "2             3865                         0.580                 561\n",
      "3             4870                         0.529                 414\n",
      "4             4399                         0.544                 410\n",
      "5             5342                         0.571                 457\n",
      "6             5319                         0.451                 344\n",
      "7             5126                         0.553                 467\n",
      "8             4447                         0.529                 464\n",
      "9             4512                         0.552                 498\n",
      "10            4391                         0.530                 580\n",
      "11            5126                         0.525                 471\n",
      "12            4817                         0.574                 525\n",
      "13            4207                         0.545                 508\n",
      "14            4332                         0.608                 566\n",
      "15            4318                         0.586                 635\n",
      "16            4206                         0.572                 603\n",
      "17            3718                         0.540                 714\n",
      "18            4716                         0.724                 865\n",
      "19            4341                         0.677                 640\n",
      "20            4593                         0.663                 649\n",
      "21            4983                         0.602                 540\n",
      "22            4897                         0.511                 464\n",
      "23            4258                         0.517                 547\n",
      "24            4574                         0.551                 460\n",
      "25            3721                         0.544                 566\n",
      "26            3448                         0.548                 577\n",
      "27            3846                         0.579                 631\n",
      "28            4188                         0.563                 574\n",
      "29            3601                         0.493                 534\n",
      "30            3640                         0.518                 571\n",
      "31            3333                         0.513                 554\n",
      "32            3063                         0.578                 577\n",
      "33            3357                         0.547                 628\n",
      "34            3528                         0.487                 487\n",
      "35            3802                         0.629                 644\n",
      "36            4045                         0.566                 640\n",
      "37            3897                         0.586                 704\n",
      "38            3635                         0.663                 648\n",
      "39            4345                         0.672                 968\n",
      "40            4449                         0.626                 587\n",
      "41            3656                         0.563                 699\n",
      "42            4300                         0.603                 632\n",
      "43            3745                         0.508                 591\n",
      "44            5215                         0.672                 782\n",
      "45            4476                         0.571                 510\n",
      "46            4296                         0.623                 610\n",
      "47            5002                         0.593                 524\n",
      "0      9.00\n",
      "1      9.00\n",
      "2      9.00\n",
      "3      7.50\n",
      "4      8.00\n",
      "5     10.00\n",
      "6      8.00\n",
      "7      8.00\n",
      "8      8.00\n",
      "9      7.00\n",
      "10     8.00\n",
      "11     7.50\n",
      "12     7.00\n",
      "13     7.00\n",
      "14     7.00\n",
      "15     7.00\n",
      "16     7.00\n",
      "17     7.00\n",
      "18     7.00\n",
      "19     8.50\n",
      "20     7.00\n",
      "21     8.00\n",
      "22     9.00\n",
      "23     9.00\n",
      "24     8.50\n",
      "25     9.00\n",
      "26     8.00\n",
      "27     7.50\n",
      "28     8.00\n",
      "29     9.00\n",
      "30     7.00\n",
      "31     7.00\n",
      "32     8.00\n",
      "33     7.50\n",
      "34     8.00\n",
      "35     6.58\n",
      "36     5.00\n",
      "37     7.00\n",
      "38     8.50\n",
      "39     7.00\n",
      "40     7.00\n",
      "41     7.00\n",
      "42     7.00\n",
      "43     7.00\n",
      "44     6.00\n",
      "45     9.00\n",
      "46     7.00\n",
      "47     7.00\n",
      "Name: Petrol_tax, dtype: float64\n"
     ]
    }
   ],
   "source": [
    "X=dataframe[['Average_income','Population_Driver_licence(%)','Petrol_Consumption']]\n",
    "y=dataframe['Petrol_tax']\n",
    "print(X)\n",
    "print(y)"
   ],
   "metadata": {
    "collapsed": false,
    "pycharm": {
     "name": "#%%\n"
    }
   }
  },
  {
   "cell_type": "code",
   "execution_count": 9,
   "outputs": [],
   "source": [
    "from sklearn.model_selection import train_test_split\n",
    "X_train,X_test,y_train,y_test=train_test_split(X,y,test_size=0.2,random_state=0)"
   ],
   "metadata": {
    "collapsed": false,
    "pycharm": {
     "name": "#%%\n"
    }
   }
  },
  {
   "cell_type": "code",
   "execution_count": 10,
   "outputs": [
    {
     "data": {
      "text/plain": "DecisionTreeRegressor()",
      "text/html": "<style>#sk-container-id-1 {color: black;background-color: white;}#sk-container-id-1 pre{padding: 0;}#sk-container-id-1 div.sk-toggleable {background-color: white;}#sk-container-id-1 label.sk-toggleable__label {cursor: pointer;display: block;width: 100%;margin-bottom: 0;padding: 0.3em;box-sizing: border-box;text-align: center;}#sk-container-id-1 label.sk-toggleable__label-arrow:before {content: \"▸\";float: left;margin-right: 0.25em;color: #696969;}#sk-container-id-1 label.sk-toggleable__label-arrow:hover:before {color: black;}#sk-container-id-1 div.sk-estimator:hover label.sk-toggleable__label-arrow:before {color: black;}#sk-container-id-1 div.sk-toggleable__content {max-height: 0;max-width: 0;overflow: hidden;text-align: left;background-color: #f0f8ff;}#sk-container-id-1 div.sk-toggleable__content pre {margin: 0.2em;color: black;border-radius: 0.25em;background-color: #f0f8ff;}#sk-container-id-1 input.sk-toggleable__control:checked~div.sk-toggleable__content {max-height: 200px;max-width: 100%;overflow: auto;}#sk-container-id-1 input.sk-toggleable__control:checked~label.sk-toggleable__label-arrow:before {content: \"▾\";}#sk-container-id-1 div.sk-estimator input.sk-toggleable__control:checked~label.sk-toggleable__label {background-color: #d4ebff;}#sk-container-id-1 div.sk-label input.sk-toggleable__control:checked~label.sk-toggleable__label {background-color: #d4ebff;}#sk-container-id-1 input.sk-hidden--visually {border: 0;clip: rect(1px 1px 1px 1px);clip: rect(1px, 1px, 1px, 1px);height: 1px;margin: -1px;overflow: hidden;padding: 0;position: absolute;width: 1px;}#sk-container-id-1 div.sk-estimator {font-family: monospace;background-color: #f0f8ff;border: 1px dotted black;border-radius: 0.25em;box-sizing: border-box;margin-bottom: 0.5em;}#sk-container-id-1 div.sk-estimator:hover {background-color: #d4ebff;}#sk-container-id-1 div.sk-parallel-item::after {content: \"\";width: 100%;border-bottom: 1px solid gray;flex-grow: 1;}#sk-container-id-1 div.sk-label:hover label.sk-toggleable__label {background-color: #d4ebff;}#sk-container-id-1 div.sk-serial::before {content: \"\";position: absolute;border-left: 1px solid gray;box-sizing: border-box;top: 0;bottom: 0;left: 50%;z-index: 0;}#sk-container-id-1 div.sk-serial {display: flex;flex-direction: column;align-items: center;background-color: white;padding-right: 0.2em;padding-left: 0.2em;position: relative;}#sk-container-id-1 div.sk-item {position: relative;z-index: 1;}#sk-container-id-1 div.sk-parallel {display: flex;align-items: stretch;justify-content: center;background-color: white;position: relative;}#sk-container-id-1 div.sk-item::before, #sk-container-id-1 div.sk-parallel-item::before {content: \"\";position: absolute;border-left: 1px solid gray;box-sizing: border-box;top: 0;bottom: 0;left: 50%;z-index: -1;}#sk-container-id-1 div.sk-parallel-item {display: flex;flex-direction: column;z-index: 1;position: relative;background-color: white;}#sk-container-id-1 div.sk-parallel-item:first-child::after {align-self: flex-end;width: 50%;}#sk-container-id-1 div.sk-parallel-item:last-child::after {align-self: flex-start;width: 50%;}#sk-container-id-1 div.sk-parallel-item:only-child::after {width: 0;}#sk-container-id-1 div.sk-dashed-wrapped {border: 1px dashed gray;margin: 0 0.4em 0.5em 0.4em;box-sizing: border-box;padding-bottom: 0.4em;background-color: white;}#sk-container-id-1 div.sk-label label {font-family: monospace;font-weight: bold;display: inline-block;line-height: 1.2em;}#sk-container-id-1 div.sk-label-container {text-align: center;}#sk-container-id-1 div.sk-container {/* jupyter's `normalize.less` sets `[hidden] { display: none; }` but bootstrap.min.css set `[hidden] { display: none !important; }` so we also need the `!important` here to be able to override the default hidden behavior on the sphinx rendered scikit-learn.org. See: https://github.com/scikit-learn/scikit-learn/issues/21755 */display: inline-block !important;position: relative;}#sk-container-id-1 div.sk-text-repr-fallback {display: none;}</style><div id=\"sk-container-id-1\" class=\"sk-top-container\"><div class=\"sk-text-repr-fallback\"><pre>DecisionTreeRegressor()</pre><b>In a Jupyter environment, please rerun this cell to show the HTML representation or trust the notebook. <br />On GitHub, the HTML representation is unable to render, please try loading this page with nbviewer.org.</b></div><div class=\"sk-container\" hidden><div class=\"sk-item\"><div class=\"sk-estimator sk-toggleable\"><input class=\"sk-toggleable__control sk-hidden--visually\" id=\"sk-estimator-id-1\" type=\"checkbox\" checked><label for=\"sk-estimator-id-1\" class=\"sk-toggleable__label sk-toggleable__label-arrow\">DecisionTreeRegressor</label><div class=\"sk-toggleable__content\"><pre>DecisionTreeRegressor()</pre></div></div></div></div></div>"
     },
     "execution_count": 10,
     "metadata": {},
     "output_type": "execute_result"
    }
   ],
   "source": [
    "from sklearn.tree import DecisionTreeRegressor\n",
    "regressor = DecisionTreeRegressor()\n",
    "regressor.fit(X_train, y_train)"
   ],
   "metadata": {
    "collapsed": false,
    "pycharm": {
     "name": "#%%\n"
    }
   }
  },
  {
   "cell_type": "code",
   "execution_count": 12,
   "outputs": [
    {
     "data": {
      "text/plain": "[Text(0.47115384615384615, 0.95, 'X[2] <= 582.5\\nsquared_error = 1.018\\nsamples = 38\\nvalue = 7.634'),\n Text(0.22115384615384615, 0.85, 'X[0] <= 5330.5\\nsquared_error = 0.831\\nsamples = 21\\nvalue = 8.119'),\n Text(0.18269230769230768, 0.75, 'X[0] <= 4140.0\\nsquared_error = 0.687\\nsamples = 20\\nvalue = 8.025'),\n Text(0.07692307692307693, 0.65, 'X[0] <= 3452.0\\nsquared_error = 0.64\\nsamples = 5\\nvalue = 8.6'),\n Text(0.038461538461538464, 0.55, 'squared_error = 0.0\\nsamples = 1\\nvalue = 7.0'),\n Text(0.11538461538461539, 0.55, 'squared_error = 0.0\\nsamples = 4\\nvalue = 9.0'),\n Text(0.28846153846153844, 0.65, 'X[1] <= 0.521\\nsquared_error = 0.556\\nsamples = 15\\nvalue = 7.833'),\n Text(0.19230769230769232, 0.55, 'X[1] <= 0.481\\nsquared_error = 0.222\\nsamples = 3\\nvalue = 8.667'),\n Text(0.15384615384615385, 0.45, 'squared_error = 0.0\\nsamples = 1\\nvalue = 8.0'),\n Text(0.23076923076923078, 0.45, 'squared_error = 0.0\\nsamples = 2\\nvalue = 9.0'),\n Text(0.38461538461538464, 0.55, 'X[1] <= 0.572\\nsquared_error = 0.422\\nsamples = 12\\nvalue = 7.625'),\n Text(0.3076923076923077, 0.45, 'X[1] <= 0.567\\nsquared_error = 0.434\\nsamples = 8\\nvalue = 7.812'),\n Text(0.2692307692307692, 0.35, 'X[2] <= 467.5\\nsquared_error = 0.265\\nsamples = 7\\nvalue = 7.643'),\n Text(0.19230769230769232, 0.25, 'X[1] <= 0.54\\nsquared_error = 0.167\\nsamples = 3\\nvalue = 8.0'),\n Text(0.15384615384615385, 0.15, 'X[2] <= 439.0\\nsquared_error = 0.062\\nsamples = 2\\nvalue = 7.75'),\n Text(0.11538461538461539, 0.05, 'squared_error = 0.0\\nsamples = 1\\nvalue = 7.5'),\n Text(0.19230769230769232, 0.05, 'squared_error = 0.0\\nsamples = 1\\nvalue = 8.0'),\n Text(0.23076923076923078, 0.15, 'squared_error = 0.0\\nsamples = 1\\nvalue = 8.5'),\n Text(0.34615384615384615, 0.25, 'X[2] <= 541.0\\nsquared_error = 0.172\\nsamples = 4\\nvalue = 7.375'),\n Text(0.3076923076923077, 0.15, 'X[2] <= 484.5\\nsquared_error = 0.056\\nsamples = 3\\nvalue = 7.167'),\n Text(0.2692307692307692, 0.05, 'squared_error = 0.0\\nsamples = 1\\nvalue = 7.5'),\n Text(0.34615384615384615, 0.05, 'squared_error = 0.0\\nsamples = 2\\nvalue = 7.0'),\n Text(0.38461538461538464, 0.15, 'squared_error = 0.0\\nsamples = 1\\nvalue = 8.0'),\n Text(0.34615384615384615, 0.35, 'squared_error = 0.0\\nsamples = 1\\nvalue = 9.0'),\n Text(0.46153846153846156, 0.45, 'X[0] <= 4900.0\\nsquared_error = 0.188\\nsamples = 4\\nvalue = 7.25'),\n Text(0.4230769230769231, 0.35, 'squared_error = 0.0\\nsamples = 2\\nvalue = 7.0'),\n Text(0.5, 0.35, 'X[1] <= 0.597\\nsquared_error = 0.25\\nsamples = 2\\nvalue = 7.5'),\n Text(0.46153846153846156, 0.25, 'squared_error = 0.0\\nsamples = 1\\nvalue = 7.0'),\n Text(0.5384615384615384, 0.25, 'squared_error = 0.0\\nsamples = 1\\nvalue = 8.0'),\n Text(0.25961538461538464, 0.75, 'squared_error = 0.0\\nsamples = 1\\nvalue = 10.0'),\n Text(0.7211538461538461, 0.85, 'X[0] <= 3645.5\\nsquared_error = 0.597\\nsamples = 17\\nvalue = 7.034'),\n Text(0.6153846153846154, 0.75, 'X[2] <= 638.0\\nsquared_error = 0.25\\nsamples = 2\\nvalue = 8.0'),\n Text(0.5769230769230769, 0.65, 'squared_error = 0.0\\nsamples = 1\\nvalue = 7.5'),\n Text(0.6538461538461539, 0.65, 'squared_error = 0.0\\nsamples = 1\\nvalue = 8.5'),\n Text(0.8269230769230769, 0.75, 'X[1] <= 0.674\\nsquared_error = 0.503\\nsamples = 15\\nvalue = 6.905'),\n Text(0.7307692307692307, 0.65, 'X[2] <= 637.5\\nsquared_error = 0.367\\nsamples = 13\\nvalue = 6.775'),\n Text(0.6538461538461539, 0.55, 'X[0] <= 4026.0\\nsquared_error = 0.035\\nsamples = 6\\nvalue = 7.083'),\n Text(0.6153846153846154, 0.45, 'X[0] <= 3795.5\\nsquared_error = 0.062\\nsamples = 2\\nvalue = 7.25'),\n Text(0.5769230769230769, 0.35, 'squared_error = 0.0\\nsamples = 1\\nvalue = 7.0'),\n Text(0.6538461538461539, 0.35, 'squared_error = 0.0\\nsamples = 1\\nvalue = 7.5'),\n Text(0.6923076923076923, 0.45, 'squared_error = 0.0\\nsamples = 4\\nvalue = 7.0'),\n Text(0.8076923076923077, 0.55, 'X[2] <= 642.0\\nsquared_error = 0.501\\nsamples = 7\\nvalue = 6.511'),\n Text(0.7692307692307693, 0.45, 'squared_error = 0.0\\nsamples = 1\\nvalue = 5.0'),\n Text(0.8461538461538461, 0.45, 'X[0] <= 4904.0\\nsquared_error = 0.14\\nsamples = 6\\nvalue = 6.763'),\n Text(0.8076923076923077, 0.35, 'X[2] <= 646.5\\nsquared_error = 0.028\\nsamples = 5\\nvalue = 6.916'),\n Text(0.7692307692307693, 0.25, 'squared_error = 0.0\\nsamples = 1\\nvalue = 6.58'),\n Text(0.8461538461538461, 0.25, 'squared_error = 0.0\\nsamples = 4\\nvalue = 7.0'),\n Text(0.8846153846153846, 0.35, 'squared_error = 0.0\\nsamples = 1\\nvalue = 6.0'),\n Text(0.9230769230769231, 0.65, 'X[1] <= 0.7\\nsquared_error = 0.562\\nsamples = 2\\nvalue = 7.75'),\n Text(0.8846153846153846, 0.55, 'squared_error = 0.0\\nsamples = 1\\nvalue = 8.5'),\n Text(0.9615384615384616, 0.55, 'squared_error = 0.0\\nsamples = 1\\nvalue = 7.0')]"
     },
     "execution_count": 12,
     "metadata": {},
     "output_type": "execute_result"
    },
    {
     "data": {
      "text/plain": "<Figure size 640x480 with 1 Axes>",
      "image/png": "[encoded data removed]"
     },
     "metadata": {},
     "output_type": "display_data"
    }
   ],
   "source": [
    "from sklearn import tree\n",
    "tree.plot_tree(regressor)"
   ],
   "metadata": {
    "collapsed": false,
    "pycharm": {
     "name": "#%%\n"
    }
   }
  },
  {
   "cell_type": "code",
   "execution_count": 13,
   "outputs": [
    {
     "data": {
      "text/plain": "    Actual  Predicted\n29     9.0        9.0\n4      8.0        8.5\n26     8.0        7.0\n30     7.0        9.0\n32     8.0        7.0\n37     7.0        7.0\n34     8.0        9.0\n40     7.0        7.0\n7      8.0        8.5\n10     8.0        8.0",
      "text/html": "<div>\n<style scoped>\n    .dataframe tbody tr th:only-of-type {\n        vertical-align: middle;\n    }\n\n    .dataframe tbody tr th {\n        vertical-align: top;\n    }\n\n    .dataframe thead th {\n        text-align: right;\n    }\n</style>\n<table border=\"1\" class=\"dataframe\">\n  <thead>\n    <tr style=\"text-align: right;\">\n      <th></th>\n      <th>Actual</th>\n      <th>Predicted</th>\n    </tr>\n  </thead>\n  <tbody>\n    <tr>\n      <th>29</th>\n      <td>9.0</td>\n      <td>9.0</td>\n    </tr>\n    <tr>\n      <th>4</th>\n      <td>8.0</td>\n      <td>8.5</td>\n    </tr>\n    <tr>\n      <th>26</th>\n      <td>8.0</td>\n      <td>7.0</td>\n    </tr>\n    <tr>\n      <th>30</th>\n      <td>7.0</td>\n      <td>9.0</td>\n    </tr>\n    <tr>\n      <th>32</th>\n      <td>8.0</td>\n      <td>7.0</td>\n    </tr>\n    <tr>\n      <th>37</th>\n      <td>7.0</td>\n      <td>7.0</td>\n    </tr>\n    <tr>\n      <th>34</th>\n      <td>8.0</td>\n      <td>9.0</td>\n    </tr>\n    <tr>\n      <th>40</th>\n      <td>7.0</td>\n      <td>7.0</td>\n    </tr>\n    <tr>\n      <th>7</th>\n      <td>8.0</td>\n      <td>8.5</td>\n    </tr>\n    <tr>\n      <th>10</th>\n      <td>8.0</td>\n      <td>8.0</td>\n    </tr>\n  </tbody>\n</table>\n</div>"
     },
     "execution_count": 13,
     "metadata": {},
     "output_type": "execute_result"
    }
   ],
   "source": [
    "y_pred=regressor.predict(X_test)\n",
    "df=pd.DataFrame({'Actual':y_test,'Predicted':y_pred})\n",
    "df"
   ],
   "metadata": {
    "collapsed": false,
    "pycharm": {
     "name": "#%%\n"
    }
   }
  },
  {
   "cell_type": "code",
   "execution_count": 14,
   "outputs": [
    {
     "name": "stdout",
     "output_type": "stream",
     "text": [
      "Mean Squared Error: 0.75\n",
      "Mean Absolute Error: 0.6\n"
     ]
    },
    {
     "data": {
      "text/plain": "7.824386003042817"
     },
     "execution_count": 14,
     "metadata": {},
     "output_type": "execute_result"
    }
   ],
   "source": [
    "from sklearn import metrics\n",
    "print('Mean Squared Error:', metrics.mean_squared_error(y_test, y_pred))\n",
    "print('Mean Absolute Error:', metrics.mean_absolute_error(y_test, y_pred))\n",
    "metrics.mean_absolute_error(y_test, y_pred) / np.average(y) * 100"
   ],
   "metadata": {
    "collapsed": false,
    "pycharm": {
     "name": "#%%\n"
    }
   }
  }
 ],
 "metadata": {
  "kernelspec": {
   "display_name": "Python 3",
   "language": "python",
   "name": "python3"
  },
  "language_info": {
   "codemirror_mode": {
    "name": "ipython",
    "version": 2
   },
   "file_extension": ".py",
   "mimetype": "text/x-python",
   "name": "python",
   "nbconvert_exporter": "python",
   "pygments_lexer": "ipython2",
   "version": "2.7.6"
  }
 },
 "nbformat": 4,
 "nbformat_minor": 0
}
